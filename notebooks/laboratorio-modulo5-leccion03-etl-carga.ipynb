{
 "cells": [
  {
   "cell_type": "markdown",
   "metadata": {},
   "source": [
    "<div style=\"text-align: center;\">\n",
    "  <img src=\"https://github.com/Hack-io-Data/Imagenes/blob/main/01-LogosHackio/logo_amarillo@4x.png?raw=true\" alt=\"esquema\" />\n",
    "</div>"
   ]
  },
  {
   "cell_type": "markdown",
   "metadata": {},
   "source": [
    "\n",
    "# Laboratorio ETL: Análisis del Sistema Energético en España\n",
    "\n",
    "## Objetivo\n",
    "\n",
    "Durante todos los laboratorios de esta semana realizarás un proceso completo de ETL para analizar la relación entre la demanda, el consumo y la generación eléctrica en diferentes provincias de España a lo largo de un año. Además, complementarán este análisis con datos demográficos y económicos extraídos del Instituto Nacional de Estadística (INE). El **objetivo principal** del análisis es **examinar cómo la demanda, el consumo y la generación eléctrica en diferentes provincias de España a lo largo de los años están influenciados por factores demográficos y económicos, como la población y el PIB provincial**. El análisis busca identificar patrones y correlaciones entre estas variables para comprender mejor las dinámicas energéticas regionales y su relación con el desarrollo socioeconómico en España.\n",
    "\n",
    "Antes de realizar el análisis, vamos a definir las hipótesis con las que vamos a trabajar, las cuales definirán todo tu análisis y planteamiento de los laboratorios: \n",
    "\n",
    "- **Hipótesis 1: La demanda eléctrica está correlacionada con la población de la provincia.** Provincias con mayor población tienden a tener una mayor demanda eléctrica.\n",
    "  \n",
    "- **Hipótesis 2: El crecimiento económico (medido por el PIB) está correlacionado con el consumo eléctrico.** Las provincias con un PIB más alto o en crecimiento experimentan un mayor consumo de energía.\n",
    "\n",
    "- **Hipótesis 3: La proporción de generación renovable está relacionada con factores económicos o geográficos.** Provincias con un mayor desarrollo económico o con condiciones geográficas favorables (como más horas de sol o viento) tienden a generar más energía renovable.\n",
    "\n",
    "\n",
    "## Tareas Laboratorio Carga\n",
    "\n",
    "En este laboratorio, tu objetivo será diseñar la estructura de una base de datos relacional, crear las tablas necesarias y cargar en ellas los datos limpios y preparados que obtuviste en el laboratorio anterior. Trabajarás con datos relacionados con la demanda, generación eléctrica, y variables socioeconómicas, almacenándolos de manera eficiente para facilitar el análisis y las consultas posteriores.\n",
    "\n",
    "\n",
    "- **Diseño de la Base de Datos:** Define una estructura de base de datos relacional que sea adecuada para almacenar los datos de demanda eléctrica, generación eléctrica, población y PIB por provincia.\n",
    "\n",
    "- **Creación de la Base de Datos:** Escribe los scripts SQL necesarios para crear las tablas definidas en la estructura de la base de datos. Asegúrate de definir correctamente los tipos de datos y las restricciones (e.g., `NOT NULL`, `UNIQUE`).\n",
    "\n",
    "- **Carga de Datos en la Base de Datos:** Utiliza Python para cargar los datos limpios y preparados en las tablas de la base de datos. Asegúrate de que los datos se insertan correctamente, manejando posibles errores o inconsistencias en los datos.\n"
   ]
  },
  {
   "cell_type": "code",
   "execution_count": 1,
   "metadata": {},
   "outputs": [],
   "source": [
    "import pandas as pd\n",
    "import os\n",
    "import sys\n",
    "sys.path.append(\"..\")\n",
    "from src.sql_funcs import *\n",
    "from src.dictionaries import cod_comunidades, provincias_comunidades, dict_mes, dict_year"
   ]
  },
  {
   "cell_type": "markdown",
   "metadata": {},
   "source": [
    "Cargamos los datos"
   ]
  },
  {
   "cell_type": "code",
   "execution_count": 2,
   "metadata": {},
   "outputs": [
    {
     "name": "stdout",
     "output_type": "stream",
     "text": [
      "..\\datos\\DatosLimpios\\demografico.csv\n"
     ]
    }
   ],
   "source": [
    "ruta_limpios = os.path.join('..\\datos', 'DatosLimpios')\n",
    "\n",
    "df_demanda = pd.read_csv(os.path.join(ruta_limpios, 'demanda.csv'), index_col = 0)\n",
    "df_generacion = pd.read_csv(os.path.join(ruta_limpios, 'generacion.csv'), index_col = 0)\n",
    "df_demog = pd.read_csv(os.path.join(ruta_limpios, 'demografico.csv'), index_col = 0)\n",
    "df_pib = pd.read_csv(os.path.join(ruta_limpios, 'PIB.csv'), index_col = 0)\n",
    "print(os.path.join(ruta_limpios, 'demografico.csv'))"
   ]
  },
  {
   "cell_type": "markdown",
   "metadata": {},
   "source": [
    "Generamos el diccionario de las provincias (ya generado en notebooks anteriores)."
   ]
  },
  {
   "cell_type": "code",
   "execution_count": 3,
   "metadata": {},
   "outputs": [],
   "source": [
    "df_demog_dict = pd.read_csv('..\\datos\\INE\\datos_demograficos.csv', encoding='latin-1', sep=';')\n",
    "provincias = df_demog_dict[\"Provincias\"].unique()\n",
    "import re\n",
    "\n",
    "cods = dict()\n",
    "for provincia in provincias:\n",
    "    splitted = provincia.split()\n",
    "    cods[\"\".join(re.findall(pattern= r\" (\\D+)\", string=provincia))] = splitted[0]\n",
    "\n",
    "cod_provincias = dict()\n",
    "for k,v in cods.items():\n",
    "    try:\n",
    "        cod_provincias[k] = int(v)\n",
    "    except:\n",
    "        cod_provincias[k] = v"
   ]
  },
  {
   "cell_type": "code",
   "execution_count": 4,
   "metadata": {},
   "outputs": [],
   "source": [
    "tabla_prov = pd.DataFrame([provincias_comunidades]).T.reset_index().rename(mapper = {\"index\" : \"provincia\", 0 :\"cod_comun\"}, axis = 1)\n",
    "\n",
    "tabla_prov[\"id_prov\"] = tabla_prov[\"provincia\"].map(cod_provincias)"
   ]
  },
  {
   "cell_type": "markdown",
   "metadata": {},
   "source": [
    "Así se quedará nuestra estructura de las provincias clasificadas en ccaa."
   ]
  },
  {
   "cell_type": "code",
   "execution_count": 5,
   "metadata": {},
   "outputs": [
    {
     "data": {
      "text/html": [
       "<div>\n",
       "<style scoped>\n",
       "    .dataframe tbody tr th:only-of-type {\n",
       "        vertical-align: middle;\n",
       "    }\n",
       "\n",
       "    .dataframe tbody tr th {\n",
       "        vertical-align: top;\n",
       "    }\n",
       "\n",
       "    .dataframe thead th {\n",
       "        text-align: right;\n",
       "    }\n",
       "</style>\n",
       "<table border=\"1\" class=\"dataframe\">\n",
       "  <thead>\n",
       "    <tr style=\"text-align: right;\">\n",
       "      <th></th>\n",
       "      <th>provincia</th>\n",
       "      <th>cod_comun</th>\n",
       "      <th>id_prov</th>\n",
       "    </tr>\n",
       "  </thead>\n",
       "  <tbody>\n",
       "    <tr>\n",
       "      <th>0</th>\n",
       "      <td>Albacete</td>\n",
       "      <td>7</td>\n",
       "      <td>2</td>\n",
       "    </tr>\n",
       "    <tr>\n",
       "      <th>1</th>\n",
       "      <td>Alicante/Alacant</td>\n",
       "      <td>15</td>\n",
       "      <td>3</td>\n",
       "    </tr>\n",
       "    <tr>\n",
       "      <th>2</th>\n",
       "      <td>Almería</td>\n",
       "      <td>4</td>\n",
       "      <td>4</td>\n",
       "    </tr>\n",
       "    <tr>\n",
       "      <th>3</th>\n",
       "      <td>Araba/Álava</td>\n",
       "      <td>10</td>\n",
       "      <td>1</td>\n",
       "    </tr>\n",
       "    <tr>\n",
       "      <th>4</th>\n",
       "      <td>Asturias</td>\n",
       "      <td>11</td>\n",
       "      <td>33</td>\n",
       "    </tr>\n",
       "    <tr>\n",
       "      <th>5</th>\n",
       "      <td>Ávila</td>\n",
       "      <td>8</td>\n",
       "      <td>5</td>\n",
       "    </tr>\n",
       "    <tr>\n",
       "      <th>6</th>\n",
       "      <td>Badajoz</td>\n",
       "      <td>16</td>\n",
       "      <td>6</td>\n",
       "    </tr>\n",
       "    <tr>\n",
       "      <th>7</th>\n",
       "      <td>Balears, Illes</td>\n",
       "      <td>8743</td>\n",
       "      <td>7</td>\n",
       "    </tr>\n",
       "    <tr>\n",
       "      <th>8</th>\n",
       "      <td>Barcelona</td>\n",
       "      <td>9</td>\n",
       "      <td>8</td>\n",
       "    </tr>\n",
       "    <tr>\n",
       "      <th>9</th>\n",
       "      <td>Bizkaia</td>\n",
       "      <td>10</td>\n",
       "      <td>48</td>\n",
       "    </tr>\n",
       "  </tbody>\n",
       "</table>\n",
       "</div>"
      ],
      "text/plain": [
       "          provincia  cod_comun id_prov\n",
       "0          Albacete          7       2\n",
       "1  Alicante/Alacant         15       3\n",
       "2           Almería          4       4\n",
       "3       Araba/Álava         10       1\n",
       "4          Asturias         11      33\n",
       "5             Ávila          8       5\n",
       "6           Badajoz         16       6\n",
       "7    Balears, Illes       8743       7\n",
       "8         Barcelona          9       8\n",
       "9           Bizkaia         10      48"
      ]
     },
     "execution_count": 5,
     "metadata": {},
     "output_type": "execute_result"
    }
   ],
   "source": [
    "tabla_prov.head(10)"
   ]
  },
  {
   "cell_type": "code",
   "execution_count": 6,
   "metadata": {},
   "outputs": [
    {
     "data": {
      "text/html": [
       "<div>\n",
       "<style scoped>\n",
       "    .dataframe tbody tr th:only-of-type {\n",
       "        vertical-align: middle;\n",
       "    }\n",
       "\n",
       "    .dataframe tbody tr th {\n",
       "        vertical-align: top;\n",
       "    }\n",
       "\n",
       "    .dataframe thead th {\n",
       "        text-align: right;\n",
       "    }\n",
       "</style>\n",
       "<table border=\"1\" class=\"dataframe\">\n",
       "  <thead>\n",
       "    <tr style=\"text-align: right;\">\n",
       "      <th></th>\n",
       "      <th>value</th>\n",
       "      <th>percentage</th>\n",
       "      <th>code_com</th>\n",
       "      <th>mes</th>\n",
       "      <th>year</th>\n",
       "    </tr>\n",
       "  </thead>\n",
       "  <tbody>\n",
       "    <tr>\n",
       "      <th>88</th>\n",
       "      <td>16753.540</td>\n",
       "      <td>1</td>\n",
       "      <td>8744</td>\n",
       "      <td>5</td>\n",
       "      <td>2019</td>\n",
       "    </tr>\n",
       "    <tr>\n",
       "      <th>271</th>\n",
       "      <td>340134.022</td>\n",
       "      <td>1</td>\n",
       "      <td>6</td>\n",
       "      <td>8</td>\n",
       "      <td>2020</td>\n",
       "    </tr>\n",
       "    <tr>\n",
       "      <th>60</th>\n",
       "      <td>1304599.661</td>\n",
       "      <td>1</td>\n",
       "      <td>8</td>\n",
       "      <td>1</td>\n",
       "      <td>2019</td>\n",
       "    </tr>\n",
       "    <tr>\n",
       "      <th>130</th>\n",
       "      <td>2209449.199</td>\n",
       "      <td>1</td>\n",
       "      <td>15</td>\n",
       "      <td>11</td>\n",
       "      <td>2019</td>\n",
       "    </tr>\n",
       "    <tr>\n",
       "      <th>322</th>\n",
       "      <td>15792.687</td>\n",
       "      <td>1</td>\n",
       "      <td>8744</td>\n",
       "      <td>11</td>\n",
       "      <td>2020</td>\n",
       "    </tr>\n",
       "    <tr>\n",
       "      <th>475</th>\n",
       "      <td>890945.768</td>\n",
       "      <td>1</td>\n",
       "      <td>5</td>\n",
       "      <td>8</td>\n",
       "      <td>2021</td>\n",
       "    </tr>\n",
       "    <tr>\n",
       "      <th>252</th>\n",
       "      <td>756953.464</td>\n",
       "      <td>1</td>\n",
       "      <td>8742</td>\n",
       "      <td>1</td>\n",
       "      <td>2020</td>\n",
       "    </tr>\n",
       "    <tr>\n",
       "      <th>594</th>\n",
       "      <td>423714.488</td>\n",
       "      <td>1</td>\n",
       "      <td>16</td>\n",
       "      <td>7</td>\n",
       "      <td>2021</td>\n",
       "    </tr>\n",
       "    <tr>\n",
       "      <th>229</th>\n",
       "      <td>3085375.745</td>\n",
       "      <td>1</td>\n",
       "      <td>4</td>\n",
       "      <td>2</td>\n",
       "      <td>2020</td>\n",
       "    </tr>\n",
       "    <tr>\n",
       "      <th>227</th>\n",
       "      <td>777171.494</td>\n",
       "      <td>1</td>\n",
       "      <td>21</td>\n",
       "      <td>12</td>\n",
       "      <td>2019</td>\n",
       "    </tr>\n",
       "  </tbody>\n",
       "</table>\n",
       "</div>"
      ],
      "text/plain": [
       "           value  percentage  code_com  mes  year\n",
       "88     16753.540           1      8744    5  2019\n",
       "271   340134.022           1         6    8  2020\n",
       "60   1304599.661           1         8    1  2019\n",
       "130  2209449.199           1        15   11  2019\n",
       "322    15792.687           1      8744   11  2020\n",
       "475   890945.768           1         5    8  2021\n",
       "252   756953.464           1      8742    1  2020\n",
       "594   423714.488           1        16    7  2021\n",
       "229  3085375.745           1         4    2  2020\n",
       "227   777171.494           1        21   12  2019"
      ]
     },
     "execution_count": 6,
     "metadata": {},
     "output_type": "execute_result"
    }
   ],
   "source": [
    "df_demanda.sample(10)"
   ]
  },
  {
   "cell_type": "code",
   "execution_count": 7,
   "metadata": {},
   "outputs": [
    {
     "data": {
      "text/html": [
       "<div>\n",
       "<style scoped>\n",
       "    .dataframe tbody tr th:only-of-type {\n",
       "        vertical-align: middle;\n",
       "    }\n",
       "\n",
       "    .dataframe tbody tr th {\n",
       "        vertical-align: top;\n",
       "    }\n",
       "\n",
       "    .dataframe thead th {\n",
       "        text-align: right;\n",
       "    }\n",
       "</style>\n",
       "<table border=\"1\" class=\"dataframe\">\n",
       "  <thead>\n",
       "    <tr style=\"text-align: right;\">\n",
       "      <th></th>\n",
       "      <th>energia (MWh)</th>\n",
       "      <th>type</th>\n",
       "      <th>code_com</th>\n",
       "      <th>mes</th>\n",
       "      <th>year</th>\n",
       "      <th>porcentaje_generacion</th>\n",
       "    </tr>\n",
       "  </thead>\n",
       "  <tbody>\n",
       "    <tr>\n",
       "      <th>1165</th>\n",
       "      <td>3898.126</td>\n",
       "      <td>Otras renovables</td>\n",
       "      <td>21</td>\n",
       "      <td>5</td>\n",
       "      <td>2019</td>\n",
       "      <td>0.02976</td>\n",
       "    </tr>\n",
       "    <tr>\n",
       "      <th>3139</th>\n",
       "      <td>1273594.165</td>\n",
       "      <td>Eólica</td>\n",
       "      <td>17</td>\n",
       "      <td>2</td>\n",
       "      <td>2021</td>\n",
       "      <td>0.44900</td>\n",
       "    </tr>\n",
       "    <tr>\n",
       "      <th>3216</th>\n",
       "      <td>22969.893</td>\n",
       "      <td>Solar fotovoltaica</td>\n",
       "      <td>8743</td>\n",
       "      <td>7</td>\n",
       "      <td>2021</td>\n",
       "      <td>0.66301</td>\n",
       "    </tr>\n",
       "    <tr>\n",
       "      <th>2923</th>\n",
       "      <td>87206.919</td>\n",
       "      <td>Hidráulica</td>\n",
       "      <td>14</td>\n",
       "      <td>2</td>\n",
       "      <td>2021</td>\n",
       "      <td>0.21478</td>\n",
       "    </tr>\n",
       "    <tr>\n",
       "      <th>2143</th>\n",
       "      <td>4.727</td>\n",
       "      <td>Solar fotovoltaica</td>\n",
       "      <td>8745</td>\n",
       "      <td>11</td>\n",
       "      <td>2020</td>\n",
       "      <td>0.00902</td>\n",
       "    </tr>\n",
       "    <tr>\n",
       "      <th>3322</th>\n",
       "      <td>7.292</td>\n",
       "      <td>Solar fotovoltaica</td>\n",
       "      <td>8745</td>\n",
       "      <td>5</td>\n",
       "      <td>2021</td>\n",
       "      <td>0.01281</td>\n",
       "    </tr>\n",
       "    <tr>\n",
       "      <th>3371</th>\n",
       "      <td>18365.706</td>\n",
       "      <td>Eólica</td>\n",
       "      <td>10</td>\n",
       "      <td>7</td>\n",
       "      <td>2021</td>\n",
       "      <td>0.21863</td>\n",
       "    </tr>\n",
       "    <tr>\n",
       "      <th>2646</th>\n",
       "      <td>65930.749</td>\n",
       "      <td>Hidráulica</td>\n",
       "      <td>7</td>\n",
       "      <td>1</td>\n",
       "      <td>2021</td>\n",
       "      <td>0.05041</td>\n",
       "    </tr>\n",
       "    <tr>\n",
       "      <th>95</th>\n",
       "      <td>516315.277</td>\n",
       "      <td>Eólica</td>\n",
       "      <td>5</td>\n",
       "      <td>12</td>\n",
       "      <td>2019</td>\n",
       "      <td>0.53668</td>\n",
       "    </tr>\n",
       "    <tr>\n",
       "      <th>563</th>\n",
       "      <td>83446.172</td>\n",
       "      <td>Hidráulica</td>\n",
       "      <td>14</td>\n",
       "      <td>12</td>\n",
       "      <td>2019</td>\n",
       "      <td>0.27131</td>\n",
       "    </tr>\n",
       "  </tbody>\n",
       "</table>\n",
       "</div>"
      ],
      "text/plain": [
       "      energia (MWh)                type  code_com  mes  year  \\\n",
       "1165       3898.126    Otras renovables        21    5  2019   \n",
       "3139    1273594.165              Eólica        17    2  2021   \n",
       "3216      22969.893  Solar fotovoltaica      8743    7  2021   \n",
       "2923      87206.919          Hidráulica        14    2  2021   \n",
       "2143          4.727  Solar fotovoltaica      8745   11  2020   \n",
       "3322          7.292  Solar fotovoltaica      8745    5  2021   \n",
       "3371      18365.706              Eólica        10    7  2021   \n",
       "2646      65930.749          Hidráulica         7    1  2021   \n",
       "95       516315.277              Eólica         5   12  2019   \n",
       "563       83446.172          Hidráulica        14   12  2019   \n",
       "\n",
       "      porcentaje_generacion  \n",
       "1165                0.02976  \n",
       "3139                0.44900  \n",
       "3216                0.66301  \n",
       "2923                0.21478  \n",
       "2143                0.00902  \n",
       "3322                0.01281  \n",
       "3371                0.21863  \n",
       "2646                0.05041  \n",
       "95                  0.53668  \n",
       "563                 0.27131  "
      ]
     },
     "execution_count": 7,
     "metadata": {},
     "output_type": "execute_result"
    }
   ],
   "source": [
    "df_generacion.sample(10)"
   ]
  },
  {
   "cell_type": "code",
   "execution_count": 8,
   "metadata": {},
   "outputs": [],
   "source": [
    "tipos_generacion = df_generacion[\"type\"].unique()"
   ]
  },
  {
   "cell_type": "code",
   "execution_count": 9,
   "metadata": {},
   "outputs": [
    {
     "name": "stdout",
     "output_type": "stream",
     "text": [
      "Base de datos sistema_ele creada con éxito\n"
     ]
    }
   ],
   "source": [
    "crear_db('sistema_ele')"
   ]
  },
  {
   "cell_type": "markdown",
   "metadata": {},
   "source": [
    "Vamos a separar las métricas para el PIB de los datos crudos."
   ]
  },
  {
   "cell_type": "code",
   "execution_count": 10,
   "metadata": {},
   "outputs": [],
   "source": [
    "filtro_pib = (df_pib[\"Ramas de actividad\"] == \"Valor añadido bruto total\") | (df_pib[\"Ramas de actividad\"] == \"Impuestos netos sobre los productos\")"
   ]
  },
  {
   "cell_type": "code",
   "execution_count": 11,
   "metadata": {},
   "outputs": [],
   "source": [
    "df_calc_pib = df_pib[filtro_pib]"
   ]
  },
  {
   "cell_type": "code",
   "execution_count": 12,
   "metadata": {},
   "outputs": [],
   "source": [
    "df_ramas = df_pib[~filtro_pib]"
   ]
  },
  {
   "cell_type": "markdown",
   "metadata": {},
   "source": [
    "Limpiamos métricas del df de datos demográficos, ya que estos los podremos obtener cuando lo necesitemos de los datos."
   ]
  },
  {
   "cell_type": "code",
   "execution_count": 13,
   "metadata": {},
   "outputs": [],
   "source": [
    "df_demog = df_demog[~(df_demog[\"Españoles/Extranjeros\"] == '% Extranjeros')]"
   ]
  },
  {
   "cell_type": "code",
   "execution_count": 14,
   "metadata": {},
   "outputs": [
    {
     "data": {
      "text/html": [
       "<div>\n",
       "<style scoped>\n",
       "    .dataframe tbody tr th:only-of-type {\n",
       "        vertical-align: middle;\n",
       "    }\n",
       "\n",
       "    .dataframe tbody tr th {\n",
       "        vertical-align: top;\n",
       "    }\n",
       "\n",
       "    .dataframe thead th {\n",
       "        text-align: right;\n",
       "    }\n",
       "</style>\n",
       "<table border=\"1\" class=\"dataframe\">\n",
       "  <thead>\n",
       "    <tr style=\"text-align: right;\">\n",
       "      <th></th>\n",
       "      <th>Provincias</th>\n",
       "      <th>Edad (3 grupos de edad)</th>\n",
       "      <th>Españoles/Extranjeros</th>\n",
       "      <th>Sexo</th>\n",
       "      <th>Año</th>\n",
       "      <th>Total</th>\n",
       "    </tr>\n",
       "  </thead>\n",
       "  <tbody>\n",
       "    <tr>\n",
       "      <th>2146</th>\n",
       "      <td>38</td>\n",
       "      <td>65 y más</td>\n",
       "      <td>Españoles</td>\n",
       "      <td>Mujeres</td>\n",
       "      <td>2020</td>\n",
       "      <td>89531.0</td>\n",
       "    </tr>\n",
       "    <tr>\n",
       "      <th>1354</th>\n",
       "      <td>23</td>\n",
       "      <td>0-15 años</td>\n",
       "      <td>Españoles</td>\n",
       "      <td>Mujeres</td>\n",
       "      <td>2020</td>\n",
       "      <td>44371.0</td>\n",
       "    </tr>\n",
       "    <tr>\n",
       "      <th>2647</th>\n",
       "      <td>50</td>\n",
       "      <td>0-15 años</td>\n",
       "      <td>Españoles</td>\n",
       "      <td>Hombres</td>\n",
       "      <td>2020</td>\n",
       "      <td>64843.0</td>\n",
       "    </tr>\n",
       "    <tr>\n",
       "      <th>1659</th>\n",
       "      <td>29</td>\n",
       "      <td>65 y más</td>\n",
       "      <td>Españoles</td>\n",
       "      <td>Mujeres</td>\n",
       "      <td>2021</td>\n",
       "      <td>142131.0</td>\n",
       "    </tr>\n",
       "    <tr>\n",
       "      <th>2775</th>\n",
       "      <td>52</td>\n",
       "      <td>16-64 años</td>\n",
       "      <td>Españoles</td>\n",
       "      <td>Mujeres</td>\n",
       "      <td>2021</td>\n",
       "      <td>22897.0</td>\n",
       "    </tr>\n",
       "  </tbody>\n",
       "</table>\n",
       "</div>"
      ],
      "text/plain": [
       "      Provincias Edad (3 grupos de edad) Españoles/Extranjeros     Sexo   Año  \\\n",
       "2146          38                65 y más             Españoles  Mujeres  2020   \n",
       "1354          23               0-15 años             Españoles  Mujeres  2020   \n",
       "2647          50               0-15 años             Españoles  Hombres  2020   \n",
       "1659          29                65 y más             Españoles  Mujeres  2021   \n",
       "2775          52              16-64 años             Españoles  Mujeres  2021   \n",
       "\n",
       "         Total  \n",
       "2146   89531.0  \n",
       "1354   44371.0  \n",
       "2647   64843.0  \n",
       "1659  142131.0  \n",
       "2775   22897.0  "
      ]
     },
     "execution_count": 14,
     "metadata": {},
     "output_type": "execute_result"
    }
   ],
   "source": [
    "df_demog.sample(5)"
   ]
  },
  {
   "cell_type": "markdown",
   "metadata": {},
   "source": [
    "Mapeamos las cantidades categóricas a unos índices que almacenaremos para crear las tablas más tarde."
   ]
  },
  {
   "cell_type": "code",
   "execution_count": 15,
   "metadata": {},
   "outputs": [],
   "source": [
    "# df_demog[\"Sexo\"] = df_demog[\"Sexo\"].map(dict_sexo)\n",
    "dict_sexo = mapeo(df_demog, 'Sexo')"
   ]
  },
  {
   "cell_type": "code",
   "execution_count": 16,
   "metadata": {},
   "outputs": [],
   "source": [
    "# df_demog[\"Españoles/Extranjeros\"] = df_demog[\"Españoles/Extranjeros\"].map(dict_nacionalidad)\n",
    "dict_nacionalidad = mapeo(df_demog, \"Españoles/Extranjeros\")"
   ]
  },
  {
   "cell_type": "code",
   "execution_count": 17,
   "metadata": {},
   "outputs": [
    {
     "data": {
      "text/html": [
       "<div>\n",
       "<style scoped>\n",
       "    .dataframe tbody tr th:only-of-type {\n",
       "        vertical-align: middle;\n",
       "    }\n",
       "\n",
       "    .dataframe tbody tr th {\n",
       "        vertical-align: top;\n",
       "    }\n",
       "\n",
       "    .dataframe thead th {\n",
       "        text-align: right;\n",
       "    }\n",
       "</style>\n",
       "<table border=\"1\" class=\"dataframe\">\n",
       "  <thead>\n",
       "    <tr style=\"text-align: right;\">\n",
       "      <th></th>\n",
       "      <th>Provincias</th>\n",
       "      <th>Edad (3 grupos de edad)</th>\n",
       "      <th>Españoles/Extranjeros</th>\n",
       "      <th>Sexo</th>\n",
       "      <th>Año</th>\n",
       "      <th>Total</th>\n",
       "    </tr>\n",
       "  </thead>\n",
       "  <tbody>\n",
       "    <tr>\n",
       "      <th>1520</th>\n",
       "      <td>27</td>\n",
       "      <td>0-15 años</td>\n",
       "      <td>2</td>\n",
       "      <td>1</td>\n",
       "      <td>2019</td>\n",
       "      <td>1046.0</td>\n",
       "    </tr>\n",
       "    <tr>\n",
       "      <th>22</th>\n",
       "      <td>2</td>\n",
       "      <td>16-64 años</td>\n",
       "      <td>1</td>\n",
       "      <td>2</td>\n",
       "      <td>2020</td>\n",
       "      <td>114793.0</td>\n",
       "    </tr>\n",
       "    <tr>\n",
       "      <th>655</th>\n",
       "      <td>11</td>\n",
       "      <td>0-15 años</td>\n",
       "      <td>2</td>\n",
       "      <td>1</td>\n",
       "      <td>2020</td>\n",
       "      <td>3636.0</td>\n",
       "    </tr>\n",
       "    <tr>\n",
       "      <th>2269</th>\n",
       "      <td>42</td>\n",
       "      <td>0-15 años</td>\n",
       "      <td>1</td>\n",
       "      <td>1</td>\n",
       "      <td>2020</td>\n",
       "      <td>5172.0</td>\n",
       "    </tr>\n",
       "    <tr>\n",
       "      <th>2312</th>\n",
       "      <td>42</td>\n",
       "      <td>65 y más</td>\n",
       "      <td>2</td>\n",
       "      <td>1</td>\n",
       "      <td>2019</td>\n",
       "      <td>82.0</td>\n",
       "    </tr>\n",
       "  </tbody>\n",
       "</table>\n",
       "</div>"
      ],
      "text/plain": [
       "      Provincias Edad (3 grupos de edad)  Españoles/Extranjeros  Sexo   Año  \\\n",
       "1520          27               0-15 años                      2     1  2019   \n",
       "22             2              16-64 años                      1     2  2020   \n",
       "655           11               0-15 años                      2     1  2020   \n",
       "2269          42               0-15 años                      1     1  2020   \n",
       "2312          42                65 y más                      2     1  2019   \n",
       "\n",
       "         Total  \n",
       "1520    1046.0  \n",
       "22    114793.0  \n",
       "655     3636.0  \n",
       "2269    5172.0  \n",
       "2312      82.0  "
      ]
     },
     "execution_count": 17,
     "metadata": {},
     "output_type": "execute_result"
    }
   ],
   "source": [
    "df_demog.sample(5)"
   ]
  },
  {
   "cell_type": "code",
   "execution_count": 18,
   "metadata": {},
   "outputs": [],
   "source": [
    "dict_edad = mapeo(df_demog, \"Edad (3 grupos de edad)\")"
   ]
  },
  {
   "cell_type": "code",
   "execution_count": 19,
   "metadata": {},
   "outputs": [],
   "source": [
    "dict_year = mapeo(df_demanda, \"year\")"
   ]
  },
  {
   "cell_type": "code",
   "execution_count": 20,
   "metadata": {},
   "outputs": [
    {
     "data": {
      "text/plain": [
       "{2019: 1, 2020: 2, 2021: 3}"
      ]
     },
     "execution_count": 20,
     "metadata": {},
     "output_type": "execute_result"
    }
   ],
   "source": [
    "mapeo(df_generacion, \"year\")"
   ]
  },
  {
   "cell_type": "code",
   "execution_count": 21,
   "metadata": {},
   "outputs": [],
   "source": [
    "dict_type = mapeo(df_generacion, \"type\")"
   ]
  },
  {
   "cell_type": "code",
   "execution_count": 22,
   "metadata": {},
   "outputs": [
    {
     "data": {
      "text/plain": [
       "{2021: 1, 2020: 2, 2019: 3}"
      ]
     },
     "execution_count": 22,
     "metadata": {},
     "output_type": "execute_result"
    }
   ],
   "source": [
    "mapeo(df_demog, \"Año\")"
   ]
  },
  {
   "cell_type": "code",
   "execution_count": 23,
   "metadata": {},
   "outputs": [
    {
     "name": "stderr",
     "output_type": "stream",
     "text": [
      "c:\\Users\\yanru\\OneDrive\\Documentos\\Hackio\\Hackio Bootcamp\\Labs\\Lab-ELT\\notebooks\\..\\src\\sql_funcs.py:137: SettingWithCopyWarning: \n",
      "A value is trying to be set on a copy of a slice from a DataFrame.\n",
      "Try using .loc[row_indexer,col_indexer] = value instead\n",
      "\n",
      "See the caveats in the documentation: https://pandas.pydata.org/pandas-docs/stable/user_guide/indexing.html#returning-a-view-versus-a-copy\n",
      "  df[columna] = df[columna].map(mapper)\n"
     ]
    },
    {
     "data": {
      "text/plain": [
       "{2021: 1, 2020: 2, 2019: 3}"
      ]
     },
     "execution_count": 23,
     "metadata": {},
     "output_type": "execute_result"
    }
   ],
   "source": [
    "mapeo(df_ramas, \"periodo\")"
   ]
  },
  {
   "cell_type": "code",
   "execution_count": 24,
   "metadata": {},
   "outputs": [
    {
     "name": "stderr",
     "output_type": "stream",
     "text": [
      "c:\\Users\\yanru\\OneDrive\\Documentos\\Hackio\\Hackio Bootcamp\\Labs\\Lab-ELT\\notebooks\\..\\src\\sql_funcs.py:137: SettingWithCopyWarning: \n",
      "A value is trying to be set on a copy of a slice from a DataFrame.\n",
      "Try using .loc[row_indexer,col_indexer] = value instead\n",
      "\n",
      "See the caveats in the documentation: https://pandas.pydata.org/pandas-docs/stable/user_guide/indexing.html#returning-a-view-versus-a-copy\n",
      "  df[columna] = df[columna].map(mapper)\n"
     ]
    }
   ],
   "source": [
    "dict_actividades = mapeo(df_ramas, \"Ramas de actividad\")"
   ]
  },
  {
   "cell_type": "code",
   "execution_count": 25,
   "metadata": {},
   "outputs": [
    {
     "name": "stderr",
     "output_type": "stream",
     "text": [
      "c:\\Users\\yanru\\OneDrive\\Documentos\\Hackio\\Hackio Bootcamp\\Labs\\Lab-ELT\\notebooks\\..\\src\\sql_funcs.py:137: SettingWithCopyWarning: \n",
      "A value is trying to be set on a copy of a slice from a DataFrame.\n",
      "Try using .loc[row_indexer,col_indexer] = value instead\n",
      "\n",
      "See the caveats in the documentation: https://pandas.pydata.org/pandas-docs/stable/user_guide/indexing.html#returning-a-view-versus-a-copy\n",
      "  df[columna] = df[columna].map(mapper)\n"
     ]
    }
   ],
   "source": [
    "mapeo(df_calc_pib, 'periodo')\n",
    "dict_metricas = mapeo(df_calc_pib, \"Ramas de actividad\")"
   ]
  },
  {
   "cell_type": "markdown",
   "metadata": {},
   "source": [
    "Creamos todas las tablas necesarias para nuestra estructura de BBDD."
   ]
  },
  {
   "cell_type": "code",
   "execution_count": 26,
   "metadata": {},
   "outputs": [],
   "source": [
    "creacion_query = '''\n",
    "CREATE TABLE IF NOT EXISTS comunidades (\n",
    "    id_ccaa int primary key unique not null,\n",
    "    nombre varchar(200) not null\n",
    ");\n",
    "\n",
    "CREATE TABLE IF NOT EXISTS provincias (\n",
    "    id_provincia int primary key unique not null,\n",
    "    nombre varchar(200) not null,\n",
    "    id_ccaa int references comunidades(id_ccaa)\n",
    ");\n",
    "\n",
    "CREATE TABLE IF NOT EXISTS metricas (\n",
    "    id_metrica int primary key unique not null,\n",
    "    nombre varchar(200) not null\n",
    ");\n",
    "\n",
    "CREATE TABLE IF NOT EXISTS years (\n",
    "    id_year int primary key unique not null,\n",
    "    year varchar(100) \n",
    ");\n",
    "\n",
    "CREATE TABLE IF NOT EXISTS pib_calc (\n",
    "    id_pib serial primary key unique not null,\n",
    "    id_provincia int references provincias(id_provincia),\n",
    "    id_metrica int references metricas(id_metrica),\n",
    "    id_year int references years(id_year),\n",
    "    total numeric\n",
    ");\n",
    "\n",
    "CREATE TABLE IF NOT EXISTS ramas (\n",
    "    id_rama int primary key unique not null,\n",
    "    nombre varchar(500) not null\n",
    ");\n",
    "\n",
    "CREATE TABLE IF NOT EXISTS registro_actividad (\n",
    "    id_registro_act serial primary key unique not null,\n",
    "    id_provincia int references provincias(id_provincia),\n",
    "    id_rama int references ramas(id_rama),\n",
    "    id_year int references years(id_year),\n",
    "    total numeric\n",
    ");\n",
    "\n",
    "\n",
    "CREATE TABLE IF NOT EXISTS meses (\n",
    "    id_mes int primary key unique not null,\n",
    "    nombre varchar(100) \n",
    ");\n",
    "\n",
    "CREATE TABLE IF NOT EXISTS sexo (\n",
    "    id_sexo int primary key unique not null,\n",
    "    nombre varchar(100) \n",
    ");\n",
    "\n",
    "CREATE TABLE IF NOT EXISTS edades (\n",
    "    id_edad int primary key unique not null,\n",
    "    intervalo varchar(100)\n",
    ");\n",
    "\n",
    "CREATE TABLE IF NOT EXISTS nacionalidades (\n",
    "    id_nacionalidad int primary key unique not null,\n",
    "    nombre varchar(100)\n",
    ");\n",
    "\n",
    "CREATE TABLE IF NOT EXISTS datos_demograficos (\n",
    "    id_registro_demo serial primary key unique not null,\n",
    "    id_provincia int references provincias(id_provincia),\n",
    "    id_edad int references edades(id_edad),\n",
    "    id_nacionalidad int references nacionalidades(id_nacionalidad),\n",
    "    id_sexo int references sexo (id_sexo),\n",
    "    id_year int references years (id_year),\n",
    "    total numeric\n",
    ");\n",
    "\n",
    "CREATE TABLE IF NOT EXISTS tipo_generacion (\n",
    "    id_tipo int primary key unique not null,\n",
    "    nombre varchar(200)\n",
    ");\n",
    "\n",
    "CREATE TABLE IF NOT EXISTS generacion (\n",
    "    id_registro_gen serial primary key unique not null,\n",
    "    id_tipo int references tipo_generacion(id_tipo),\n",
    "    id_ccaa int references comunidades(id_ccaa),\n",
    "    id_mes int references meses(id_mes),\n",
    "    id_year int references years(id_year),\n",
    "    energia numeric,\n",
    "    porcentaje numeric\n",
    ");\n",
    "\n",
    "CREATE TABLE IF NOT EXISTS demanda (\n",
    "    id_registro_dem serial primary key unique not null,\n",
    "    id_ccaa int references comunidades(id_ccaa),\n",
    "    id_mes int references meses(id_mes),\n",
    "    id_year int references years(id_year),\n",
    "    energia numeric,\n",
    "    porcentaje numeric\n",
    ");\n",
    "\n",
    "'''"
   ]
  },
  {
   "cell_type": "markdown",
   "metadata": {},
   "source": [
    "Nos quedará algo como esto: \n",
    "\n",
    "![imagen](..\\diagrama_ddbb.png)"
   ]
  },
  {
   "cell_type": "code",
   "execution_count": 27,
   "metadata": {},
   "outputs": [
    {
     "name": "stdout",
     "output_type": "stream",
     "text": [
      "Done!\n"
     ]
    }
   ],
   "source": [
    "conexion = establecer_conn('sistema_ele','admin', 'postgres')\n",
    "query_commit(conexion, creacion_query)"
   ]
  },
  {
   "cell_type": "markdown",
   "metadata": {},
   "source": [
    "Y ahora insertamos los valores correspondientes en su orden correspondiente."
   ]
  },
  {
   "cell_type": "code",
   "execution_count": 28,
   "metadata": {},
   "outputs": [
    {
     "name": "stdout",
     "output_type": "stream",
     "text": [
      "Done!\n",
      "Done!\n",
      "Done!\n",
      "Done!\n",
      "Done!\n",
      "Done!\n",
      "Done!\n",
      "Done!\n",
      "Done!\n",
      "Done!\n",
      "Done!\n",
      "Done!\n",
      "Done!\n",
      "Done!\n",
      "Done!\n"
     ]
    }
   ],
   "source": [
    "#! Una inserción bastante mejorable --> implementación con funciones o simplemente\n",
    "#! reordenación de los índices en los parámetros de 'insert into'.\n",
    "\n",
    "insert_comun = '''\n",
    "                INSERT INTO comunidades(id_ccaa, nombre)\n",
    "                            VALUES(%s,%s)\n",
    "                '''\n",
    "\n",
    "lista_comunidades = [tuple([v,k]) for k,v in cod_comunidades.items()]\n",
    "conexion = establecer_conn('sistema_ele','admin', 'postgres')\n",
    "query_commit_many(conexion, insert_comun, lista_comunidades)\n",
    "\n",
    "insert_prov = '''\n",
    "                INSERT INTO provincias(id_provincia, nombre, id_ccaa)\n",
    "                            VALUES(%s,%s,%s)\n",
    "                '''\n",
    "\n",
    "lista_provincias = [tuple([v[2],v[0],v[1]]) for v in tabla_prov.values]\n",
    "conexion = establecer_conn('sistema_ele','admin', 'postgres')\n",
    "query_commit_many(conexion, insert_prov, lista_provincias)\n",
    "\n",
    "insert_metricas = '''\n",
    "                INSERT INTO metricas(id_metrica, nombre)\n",
    "                            VALUES(%s,%s)\n",
    "                '''\n",
    "lista_metricas = [tuple([v,k]) for k,v in dict_metricas.items()]\n",
    "conexion = establecer_conn('sistema_ele','admin', 'postgres')\n",
    "query_commit_many(conexion, insert_metricas, lista_metricas)\n",
    "\n",
    "\n",
    "insert_years = '''\n",
    "                INSERT INTO years(id_year, year)\n",
    "                            VALUES(%s,%s)\n",
    "                '''\n",
    "\n",
    "lista_years = [tuple([int(v), int(k)]) for k, v in dict_year.items()]\n",
    "conexion = establecer_conn('sistema_ele','admin', 'postgres')\n",
    "query_commit_many(conexion, insert_years, lista_years)\n",
    "\n",
    "insert_pib_calc = '''\n",
    "                INSERT INTO pib_calc(id_provincia, id_metrica, id_year, total)\n",
    "                            VALUES(%s,%s,%s,%s)\n",
    "                '''\n",
    "\n",
    "lista_pib_calc = [tuple(v) for v in df_calc_pib.values]\n",
    "conexion = establecer_conn('sistema_ele','admin', 'postgres')\n",
    "query_commit_many(conexion, insert_pib_calc, lista_pib_calc)\n",
    "\n",
    "\n",
    "insert_ramas = '''\n",
    "                INSERT INTO ramas(id_rama, nombre)\n",
    "                            VALUES(%s,%s)\n",
    "                '''\n",
    "\n",
    "lista_actividades = [tuple([v,k]) for k,v in dict_actividades.items()]\n",
    "conexion = establecer_conn('sistema_ele','admin', 'postgres')\n",
    "query_commit_many(conexion, insert_ramas, lista_actividades)\n",
    "\n",
    "\n",
    "insert_registro_act = '''\n",
    "                INSERT INTO registro_actividad(id_provincia, id_rama, id_year, total)\n",
    "                            VALUES(%s,%s,%s,%s)\n",
    "                '''\n",
    "\n",
    "lista_registro_act = [tuple(v) for v in df_ramas.values]\n",
    "conexion = establecer_conn('sistema_ele','admin', 'postgres')\n",
    "query_commit_many(conexion, insert_registro_act, lista_registro_act)\n",
    "\n",
    "insert_meses = '''\n",
    "                INSERT INTO meses(id_mes, nombre)\n",
    "                            VALUES(%s,%s)\n",
    "                '''\n",
    "\n",
    "lista_meses = [tuple([k,v]) for k,v in dict_mes.items()]\n",
    "conexion = establecer_conn('sistema_ele','admin', 'postgres')\n",
    "query_commit_many(conexion, insert_meses, lista_meses)\n",
    "\n",
    "insert_sexo = '''\n",
    "                INSERT INTO sexo(id_sexo, nombre)\n",
    "                            VALUES(%s,%s)\n",
    "                '''\n",
    "\n",
    "lista_sexo = [tuple([v,k]) for k,v in dict_sexo.items()]\n",
    "conexion = establecer_conn('sistema_ele','admin', 'postgres')\n",
    "query_commit_many(conexion, insert_sexo, lista_sexo)\n",
    "\n",
    "insert_edades = '''\n",
    "                INSERT INTO edades(id_edad, intervalo)\n",
    "                            VALUES(%s,%s)\n",
    "                '''\n",
    "\n",
    "lista_edades = [tuple([v,k]) for k,v in dict_edad.items()]\n",
    "conexion = establecer_conn('sistema_ele','admin', 'postgres')\n",
    "query_commit_many(conexion, insert_edades, lista_edades)\n",
    "\n",
    "insert_nacion = '''\n",
    "                INSERT INTO nacionalidades(id_nacionalidad, nombre)\n",
    "                            VALUES(%s,%s)\n",
    "                '''\n",
    "\n",
    "lista_nacion = [tuple([v,k]) for k,v in dict_nacionalidad.items()]\n",
    "conexion = establecer_conn('sistema_ele','admin', 'postgres')\n",
    "query_commit_many(conexion, insert_nacion, lista_nacion)\n",
    "\n",
    "insert_datos_demo = '''\n",
    "                INSERT INTO datos_demograficos(id_provincia, id_edad, id_nacionalidad, id_sexo, id_year, total)\n",
    "                            VALUES(%s,%s,%s,%s,%s,%s)\n",
    "                '''\n",
    "\n",
    "lista_demo = [tuple(v) for v in df_demog.values]\n",
    "conexion = establecer_conn('sistema_ele','admin', 'postgres')\n",
    "query_commit_many(conexion, insert_datos_demo, lista_demo)\n",
    "\n",
    "insert_tipo_gen = '''\n",
    "                INSERT INTO tipo_generacion(id_tipo, nombre)\n",
    "                            VALUES(%s,%s)\n",
    "                '''\n",
    "\n",
    "lista_tipo = [tuple([v,k]) for k,v in dict_type.items()]\n",
    "conexion = establecer_conn('sistema_ele','admin', 'postgres')\n",
    "query_commit_many(conexion, insert_tipo_gen, lista_tipo)\n",
    "\n",
    "insert_generacion = '''\n",
    "                INSERT INTO generacion(id_tipo, id_ccaa, id_mes, id_year, energia, porcentaje)\n",
    "                            VALUES(%s,%s,%s,%s,%s,%s)\n",
    "                '''\n",
    "\n",
    "lista_gene = [tuple([v[1],v[2],v[3],v[4],v[0],v[-1]]) for v in df_generacion.values]\n",
    "conexion = establecer_conn('sistema_ele','admin', 'postgres')\n",
    "query_commit_many(conexion, insert_generacion, lista_gene)\n",
    "\n",
    "insert_demanda = '''\n",
    "                INSERT INTO demanda(id_ccaa, id_mes, id_year, energia, porcentaje)\n",
    "                            VALUES(%s,%s,%s,%s,%s)\n",
    "                '''\n",
    "\n",
    "lista_demanda = [tuple([v[2],v[3],v[4],v[0],v[1]]) for v in df_demanda.values]\n",
    "conexion = establecer_conn('sistema_ele','admin', 'postgres')\n",
    "query_commit_many(conexion, insert_demanda, lista_demanda)"
   ]
  }
 ],
 "metadata": {
  "kernelspec": {
   "display_name": "Python 3",
   "language": "python",
   "name": "python3"
  },
  "language_info": {
   "codemirror_mode": {
    "name": "ipython",
    "version": 3
   },
   "file_extension": ".py",
   "mimetype": "text/x-python",
   "name": "python",
   "nbconvert_exporter": "python",
   "pygments_lexer": "ipython3",
   "version": "3.11.9"
  }
 },
 "nbformat": 4,
 "nbformat_minor": 2
}
