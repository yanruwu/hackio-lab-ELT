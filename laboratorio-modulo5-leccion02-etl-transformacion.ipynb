{
 "cells": [
  {
   "cell_type": "markdown",
   "metadata": {},
   "source": [
    "<div style=\"text-align: center;\">\n",
    "  <img src=\"https://github.com/Hack-io-Data/Imagenes/blob/main/01-LogosHackio/logo_amarillo@4x.png?raw=true\" alt=\"esquema\" />\n",
    "</div>"
   ]
  },
  {
   "cell_type": "markdown",
   "metadata": {},
   "source": [
    "\n",
    "# Laboratorio ETL: Análisis del Sistema Energético en España\n",
    "\n",
    "## Objetivo\n",
    "\n",
    "Durante todos los laboratorios de esta semana realizarás un proceso completo de ETL para analizar la relación entre la demanda, el consumo y la generación eléctrica en diferentes provincias de España a lo largo de un año. Además, complementarán este análisis con datos demográficos y económicos extraídos del Instituto Nacional de Estadística (INE). El **objetivo principal** del análisis es **examinar cómo la demanda, el consumo y la generación eléctrica en diferentes provincias de España a lo largo de los años están influenciados por factores demográficos y económicos, como la población y el PIB provincial**. El análisis busca identificar patrones y correlaciones entre estas variables para comprender mejor las dinámicas energéticas regionales y su relación con el desarrollo socioeconómico en España.\n",
    "\n",
    "Antes de realizar el análisis, vamos a definir las hipótesis con las que vamos a trabajar, las cuales definirán todo tu análisis y planteamiento de los laboratorios: \n",
    "\n",
    "- **Hipótesis 1: La demanda eléctrica está correlacionada con la población de la provincia.** Provincias con mayor población tienden a tener una mayor demanda eléctrica.\n",
    "  \n",
    "- **Hipótesis 2: El crecimiento económico (medido por el PIB) está correlacionado con el consumo eléctrico.** Las provincias con un PIB más alto o en crecimiento experimentan un mayor consumo de energía.\n",
    "\n",
    "- **Hipótesis 3: La proporción de generación renovable está relacionada con factores económicos o geográficos.** Provincias con un mayor desarrollo económico o con condiciones geográficas favorables (como más horas de sol o viento) tienden a generar más energía renovable.\n",
    "\n",
    "\n",
    "## Tareas Laboratorio Transformación\n",
    "\n",
    "En este laboratorio, tu objetivo será limpiar y preparar los datos extraídos previamente de diferentes fuentes para su posterior análisis. Trabajarás con datos provenientes de la API de Red Eléctrica Española (REE) y del Instituto Nacional de Estadística (INE). Estos datos incluyen información sobre demanda y generación eléctrica a nivel provincial, así como datos demográficos y económicos. \n",
    "\n",
    "\n",
    "- Cargar los Datos Extraídos:\n",
    "\n",
    "  - **Demanda Eléctrica:** Carga los datos de demanda eléctrica extraídos de la API de REE.\n",
    "\n",
    "  - **Generación Eléctrica:** Carga los datos de generación eléctrica diferenciados por tipo de energía (eólica, solar, hidroeléctrica, etc.) a nivel provincial.\n",
    "\n",
    "  - **Datos Demográficos:** Carga los datos demográficos por provincia extraídos de la web del INE.\n",
    "\n",
    "  - **Datos Económicos:** Carga los datos del PIB por provincia obtenidos del INE.\n",
    "\n",
    "\n",
    "-Limpieza de Datos:\n",
    "\n",
    "- Datos de la API de REE:\n",
    "\n",
    "  - **Demanda Eléctrica:**\n",
    "\n",
    "    - **Conversión de Timestamps:** Asegúrate de que las fechas estén correctamente formateadas en `datetime`. Si es necesario, convierte los datos a un formato uniforme (por ejemplo, `YYYY-MM` para datos mensuales).\n",
    "\n",
    "    - **Tratamiento de Valores Nulos:** Identifica y maneja los valores nulos en caso de que los haya. Puedes optar por eliminar filas con valores faltantes.\n",
    "\n",
    "    - **Estandarización de Nombres de Provincias:** Verifica que los nombres de las provincias estén estandarizados y coincidan en todos los conjuntos de datos. Si hay inconsistencias, corrígelas.\n",
    "\n",
    "  - **Generación Eléctrica:**\n",
    "\n",
    "    - **Desagregación de Tecnologías:** Asegúrate de que los datos estén correctamente desglosados por tipo de energía. Revisa que los campos correspondientes a energía eólica, solar, hidroeléctrica, etc., estén bien identificados y sin errores.\n",
    "\n",
    "    - **Normalización de Unidades:** Verifica que las unidades de energía estén estandarizadas (por ejemplo, MWh). Realiza las conversiones necesarias si se encuentran en otras unidades.\n",
    "\n",
    "    - **Identificación de Outliers:** Revisa los valores extremos o atípicos en la generación de energía y decide si deben ser tratados o eliminados.\n",
    "\n",
    "- Datos del INE:\n",
    "\n",
    "  - **Datos Demográficos:**\n",
    "\n",
    "    - **Consistencia en la Codificación de Provincias:** Asegúrate de que los nombres de las provincias en los datos demográficos coincidan con los nombres utilizados en los datos eléctricos.\n",
    "\n",
    "    - **Revisión de Categorías:** Verifica que las categorías de edad, sexo, y nacionalidad estén correctamente etiquetadas y sean consistentes en todo el dataset.\n",
    "\n",
    "    - **Manejo de Valores Faltantes:** Revisa la presencia de valores faltantes y decide cómo tratarlos (relleno, eliminación o sustitución).\n",
    "\n",
    "  - **Datos Económicos:**\n",
    "\n",
    "    - **Normalización del PIB:** Si los datos del PIB están en diferentes unidades o escalas, asegúrate de normalizarlos para que sean comparables entre provincias.\n",
    "\n",
    "    - **Agrupación Temporal:** Si los datos económicos están disponibles en diferentes periodos temporales, agrúpalos y normalízalos para que coincidan con los datos eléctricos en términos de granularidad temporal (mensual o anual).\n",
    "\n",
    "NOTA: Ten en cuenta que los datos los vamos a tener que insertar en una base de datos mañana, por lo que toda esta limpieza os recomendamos que la penséis para poder crear e insertar los datos mañana. "
   ]
  },
  {
   "cell_type": "code",
   "execution_count": 213,
   "metadata": {},
   "outputs": [],
   "source": [
    "import pandas as pd\n",
    "import os\n",
    "import seaborn as sns\n",
    "import matplotlib.pyplot as plt"
   ]
  },
  {
   "cell_type": "code",
   "execution_count": 214,
   "metadata": {},
   "outputs": [],
   "source": [
    "def get_outliers(data):\n",
    "    \"\"\"\n",
    "    Detecta valores atípicos en un conjunto de datos utilizando el método del rango intercuartílico (IQR).\n",
    "\n",
    "    Args:\n",
    "        data (Series): Serie de pandas que contiene los datos numéricos para analizar.\n",
    "\n",
    "    Returns:\n",
    "        Series: Serie de pandas que contiene los valores atípicos detectados.\n",
    "    \"\"\"\n",
    "    q1,q3 = data.quantile([0.25,0.75])\n",
    "    iqr = q3-q1\n",
    "    upper_fence = q3 + (1.5*iqr)\n",
    "    lower_fence = q1 - (1.5*iqr)\n",
    "    outliers = data[(data < lower_fence) | (data > upper_fence)]\n",
    "    # print(iqr)\n",
    "    # print(lower_fence, upper_fence)\n",
    "    return outliers\n",
    "\n",
    "def decimalpoint(string_num):\n",
    "    return float(string_num.replace('.', '').replace(',','.'))"
   ]
  },
  {
   "cell_type": "code",
   "execution_count": 215,
   "metadata": {},
   "outputs": [],
   "source": [
    "cod_comunidades = {'Ceuta': 8744,\n",
    "                    'Melilla': 8745,\n",
    "                    'Andalucía': 4,\n",
    "                    'Aragón': 5,\n",
    "                    'Cantabria': 6,\n",
    "                    'Castilla - La Mancha': 7,\n",
    "                    'Castilla y León': 8,\n",
    "                    'Cataluña': 9,\n",
    "                    'País Vasco': 10,\n",
    "                    'Principado de Asturias': 11,\n",
    "                    'Comunidad de Madrid': 13,\n",
    "                    'Comunidad Foral de Navarra': 14,\n",
    "                    'Comunitat Valenciana': 15,\n",
    "                    'Extremadura': 16,\n",
    "                    'Galicia': 17,\n",
    "                    'Illes Balears': 8743,\n",
    "                    'Canarias': 8742,\n",
    "                    'Región de Murcia': 21,\n",
    "                    'La Rioja': 20}\n",
    "\n",
    "code_mapper = dict()\n",
    "for k,v in cod_comunidades.items():\n",
    "    code_mapper[v] = k"
   ]
  },
  {
   "cell_type": "markdown",
   "metadata": {},
   "source": [
    "## Demanda y generación energética"
   ]
  },
  {
   "cell_type": "code",
   "execution_count": 216,
   "metadata": {},
   "outputs": [],
   "source": [
    "def extraer_df(ruta):\n",
    "    years = os.listdir(ruta)\n",
    "    df_final = pd.DataFrame()\n",
    "    for year in years:\n",
    "        ruta_year = os.path.join(ruta, year)\n",
    "        files = os.listdir(ruta_year)\n",
    "        df_com = pd.DataFrame()\n",
    "        for file in files:\n",
    "            ruta_file = os.path.join(ruta_year, file)\n",
    "            df_archivo = pd.read_csv(ruta_file, index_col=0)\n",
    "            df_archivo[\"code_com\"] = cod_comunidades[file.split('.')[0]]\n",
    "            df_com = pd.concat([df_com, df_archivo])\n",
    "        df_final = pd.concat([df_final,df_com])\n",
    "        df_final.reset_index(drop=True, inplace=True)\n",
    "    df_final[\"fecha\"] = df_final[\"datetime\"].apply(lambda x :pd.to_datetime(x).strftime('%Y-%m'))\n",
    "    df_final.drop(columns='datetime', inplace=True)\n",
    "    return df_final"
   ]
  },
  {
   "cell_type": "code",
   "execution_count": 217,
   "metadata": {},
   "outputs": [],
   "source": [
    "df_demanda = extraer_df(ruta='datos\\demanda')\n",
    "df_generacion = extraer_df(ruta='datos\\generacion')"
   ]
  },
  {
   "cell_type": "markdown",
   "metadata": {},
   "source": [
    "Vemos que la columna de magnitude no nos da información relevante."
   ]
  },
  {
   "cell_type": "code",
   "execution_count": 218,
   "metadata": {},
   "outputs": [
    {
     "data": {
      "text/html": [
       "<div>\n",
       "<style scoped>\n",
       "    .dataframe tbody tr th:only-of-type {\n",
       "        vertical-align: middle;\n",
       "    }\n",
       "\n",
       "    .dataframe tbody tr th {\n",
       "        vertical-align: top;\n",
       "    }\n",
       "\n",
       "    .dataframe thead th {\n",
       "        text-align: right;\n",
       "    }\n",
       "</style>\n",
       "<table border=\"1\" class=\"dataframe\">\n",
       "  <thead>\n",
       "    <tr style=\"text-align: right;\">\n",
       "      <th></th>\n",
       "      <th>value</th>\n",
       "      <th>percentage</th>\n",
       "      <th>type</th>\n",
       "      <th>magnitude</th>\n",
       "      <th>code_com</th>\n",
       "      <th>fecha</th>\n",
       "    </tr>\n",
       "  </thead>\n",
       "  <tbody>\n",
       "    <tr>\n",
       "      <th>647</th>\n",
       "      <td>2.485544e+04</td>\n",
       "      <td>0.084075</td>\n",
       "      <td>Solar fotovoltaica</td>\n",
       "      <td>NaN</td>\n",
       "      <td>15</td>\n",
       "      <td>2019-12</td>\n",
       "    </tr>\n",
       "    <tr>\n",
       "      <th>2671</th>\n",
       "      <td>1.794168e+05</td>\n",
       "      <td>0.152856</td>\n",
       "      <td>Solar fotovoltaica</td>\n",
       "      <td>NaN</td>\n",
       "      <td>7</td>\n",
       "      <td>2021-02</td>\n",
       "    </tr>\n",
       "    <tr>\n",
       "      <th>2454</th>\n",
       "      <td>1.308594e+06</td>\n",
       "      <td>0.820323</td>\n",
       "      <td>Eólica</td>\n",
       "      <td>NaN</td>\n",
       "      <td>5</td>\n",
       "      <td>2021-01</td>\n",
       "    </tr>\n",
       "    <tr>\n",
       "      <th>1050</th>\n",
       "      <td>8.436462e+04</td>\n",
       "      <td>1.000000</td>\n",
       "      <td>Generación renovable</td>\n",
       "      <td>NaN</td>\n",
       "      <td>10</td>\n",
       "      <td>2019-10</td>\n",
       "    </tr>\n",
       "    <tr>\n",
       "      <th>2827</th>\n",
       "      <td>1.220688e+04</td>\n",
       "      <td>0.021763</td>\n",
       "      <td>Otras renovables</td>\n",
       "      <td>NaN</td>\n",
       "      <td>9</td>\n",
       "      <td>2021-02</td>\n",
       "    </tr>\n",
       "  </tbody>\n",
       "</table>\n",
       "</div>"
      ],
      "text/plain": [
       "             value  percentage                  type  magnitude  code_com  \\\n",
       "647   2.485544e+04    0.084075    Solar fotovoltaica        NaN        15   \n",
       "2671  1.794168e+05    0.152856    Solar fotovoltaica        NaN         7   \n",
       "2454  1.308594e+06    0.820323                Eólica        NaN         5   \n",
       "1050  8.436462e+04    1.000000  Generación renovable        NaN        10   \n",
       "2827  1.220688e+04    0.021763      Otras renovables        NaN         9   \n",
       "\n",
       "        fecha  \n",
       "647   2019-12  \n",
       "2671  2021-02  \n",
       "2454  2021-01  \n",
       "1050  2019-10  \n",
       "2827  2021-02  "
      ]
     },
     "execution_count": 218,
     "metadata": {},
     "output_type": "execute_result"
    }
   ],
   "source": [
    "df_generacion.sample(5)"
   ]
  },
  {
   "cell_type": "markdown",
   "metadata": {},
   "source": [
    "Está entera vacía"
   ]
  },
  {
   "cell_type": "code",
   "execution_count": 219,
   "metadata": {},
   "outputs": [
    {
     "name": "stdout",
     "output_type": "stream",
     "text": [
      "<class 'pandas.core.frame.DataFrame'>\n",
      "RangeIndex: 3557 entries, 0 to 3556\n",
      "Data columns (total 6 columns):\n",
      " #   Column      Non-Null Count  Dtype  \n",
      "---  ------      --------------  -----  \n",
      " 0   value       3557 non-null   float64\n",
      " 1   percentage  3557 non-null   float64\n",
      " 2   type        3557 non-null   object \n",
      " 3   magnitude   0 non-null      float64\n",
      " 4   code_com    3557 non-null   int64  \n",
      " 5   fecha       3557 non-null   object \n",
      "dtypes: float64(3), int64(1), object(2)\n",
      "memory usage: 166.9+ KB\n"
     ]
    }
   ],
   "source": [
    "df_generacion.info()"
   ]
  },
  {
   "cell_type": "code",
   "execution_count": 220,
   "metadata": {},
   "outputs": [],
   "source": [
    "df_generacion.drop(columns='magnitude', inplace=True)"
   ]
  },
  {
   "cell_type": "markdown",
   "metadata": {},
   "source": [
    "Podemos comprobar en la web de la [REE](https://www.ree.es/es/datos/generacion/estructura-generacion), que los datos energéticos están recogidos en MWh."
   ]
  },
  {
   "cell_type": "code",
   "execution_count": 221,
   "metadata": {},
   "outputs": [],
   "source": [
    "df_generacion.rename(columns={\"value\" : \"energia (MWh)\"}, inplace=True)"
   ]
  },
  {
   "cell_type": "code",
   "execution_count": 222,
   "metadata": {},
   "outputs": [
    {
     "data": {
      "text/html": [
       "<div>\n",
       "<style scoped>\n",
       "    .dataframe tbody tr th:only-of-type {\n",
       "        vertical-align: middle;\n",
       "    }\n",
       "\n",
       "    .dataframe tbody tr th {\n",
       "        vertical-align: top;\n",
       "    }\n",
       "\n",
       "    .dataframe thead th {\n",
       "        text-align: right;\n",
       "    }\n",
       "</style>\n",
       "<table border=\"1\" class=\"dataframe\">\n",
       "  <thead>\n",
       "    <tr style=\"text-align: right;\">\n",
       "      <th></th>\n",
       "      <th>energia (MWh)</th>\n",
       "      <th>percentage</th>\n",
       "      <th>type</th>\n",
       "      <th>code_com</th>\n",
       "      <th>fecha</th>\n",
       "    </tr>\n",
       "  </thead>\n",
       "  <tbody>\n",
       "    <tr>\n",
       "      <th>2305</th>\n",
       "      <td>11436.247</td>\n",
       "      <td>0.047272</td>\n",
       "      <td>Hidráulica</td>\n",
       "      <td>21</td>\n",
       "      <td>2020-08</td>\n",
       "    </tr>\n",
       "    <tr>\n",
       "      <th>334</th>\n",
       "      <td>23358.473</td>\n",
       "      <td>0.014471</td>\n",
       "      <td>Otras renovables</td>\n",
       "      <td>7</td>\n",
       "      <td>2019-11</td>\n",
       "    </tr>\n",
       "    <tr>\n",
       "      <th>516</th>\n",
       "      <td>13467.019</td>\n",
       "      <td>0.402100</td>\n",
       "      <td>Otras renovables</td>\n",
       "      <td>13</td>\n",
       "      <td>2019-01</td>\n",
       "    </tr>\n",
       "    <tr>\n",
       "      <th>2994</th>\n",
       "      <td>377426.174</td>\n",
       "      <td>0.865221</td>\n",
       "      <td>Eólica</td>\n",
       "      <td>15</td>\n",
       "      <td>2021-01</td>\n",
       "    </tr>\n",
       "    <tr>\n",
       "      <th>109</th>\n",
       "      <td>5342.305</td>\n",
       "      <td>0.009388</td>\n",
       "      <td>Otras renovables</td>\n",
       "      <td>5</td>\n",
       "      <td>2019-02</td>\n",
       "    </tr>\n",
       "    <tr>\n",
       "      <th>1436</th>\n",
       "      <td>6753.154</td>\n",
       "      <td>0.149717</td>\n",
       "      <td>Otras renovables</td>\n",
       "      <td>6</td>\n",
       "      <td>2020-12</td>\n",
       "    </tr>\n",
       "    <tr>\n",
       "      <th>1409</th>\n",
       "      <td>4524.090</td>\n",
       "      <td>0.215196</td>\n",
       "      <td>Eólica</td>\n",
       "      <td>6</td>\n",
       "      <td>2020-09</td>\n",
       "    </tr>\n",
       "    <tr>\n",
       "      <th>2495</th>\n",
       "      <td>1085380.367</td>\n",
       "      <td>1.000000</td>\n",
       "      <td>Generación renovable</td>\n",
       "      <td>5</td>\n",
       "      <td>2021-06</td>\n",
       "    </tr>\n",
       "    <tr>\n",
       "      <th>2899</th>\n",
       "      <td>7136.069</td>\n",
       "      <td>0.110165</td>\n",
       "      <td>Residuos renovables</td>\n",
       "      <td>13</td>\n",
       "      <td>2021-02</td>\n",
       "    </tr>\n",
       "    <tr>\n",
       "      <th>921</th>\n",
       "      <td>653.245</td>\n",
       "      <td>0.003597</td>\n",
       "      <td>Otras renovables</td>\n",
       "      <td>20</td>\n",
       "      <td>2019-01</td>\n",
       "    </tr>\n",
       "  </tbody>\n",
       "</table>\n",
       "</div>"
      ],
      "text/plain": [
       "      energia (MWh)  percentage                  type  code_com    fecha\n",
       "2305      11436.247    0.047272            Hidráulica        21  2020-08\n",
       "334       23358.473    0.014471      Otras renovables         7  2019-11\n",
       "516       13467.019    0.402100      Otras renovables        13  2019-01\n",
       "2994     377426.174    0.865221                Eólica        15  2021-01\n",
       "109        5342.305    0.009388      Otras renovables         5  2019-02\n",
       "1436       6753.154    0.149717      Otras renovables         6  2020-12\n",
       "1409       4524.090    0.215196                Eólica         6  2020-09\n",
       "2495    1085380.367    1.000000  Generación renovable         5  2021-06\n",
       "2899       7136.069    0.110165   Residuos renovables        13  2021-02\n",
       "921         653.245    0.003597      Otras renovables        20  2019-01"
      ]
     },
     "execution_count": 222,
     "metadata": {},
     "output_type": "execute_result"
    }
   ],
   "source": [
    "df_generacion.sample(10)"
   ]
  },
  {
   "cell_type": "markdown",
   "metadata": {},
   "source": [
    "Vamos a ver dónde encontramos los outliers:"
   ]
  },
  {
   "cell_type": "code",
   "execution_count": 223,
   "metadata": {},
   "outputs": [
    {
     "data": {
      "text/plain": [
       "code_com\n",
       "Castilla y León               96\n",
       "Galicia                       91\n",
       "Andalucía                     71\n",
       "Castilla - La Mancha          68\n",
       "Aragón                        64\n",
       "Cataluña                      39\n",
       "Extremadura                   27\n",
       "Principado de Asturias         6\n",
       "Comunitat Valenciana           4\n",
       "Comunidad Foral de Navarra     3\n",
       "Name: count, dtype: int64"
      ]
     },
     "execution_count": 223,
     "metadata": {},
     "output_type": "execute_result"
    }
   ],
   "source": [
    "df_generacion.iloc[get_outliers(df_generacion[\"energia (MWh)\"]).index]['code_com'].map(code_mapper).value_counts()"
   ]
  },
  {
   "cell_type": "markdown",
   "metadata": {},
   "source": [
    "Sobretodo en Castilla y León y Galicia. En cuanto a las fechas donde se concentran estos valores atípicos:"
   ]
  },
  {
   "cell_type": "code",
   "execution_count": 224,
   "metadata": {},
   "outputs": [
    {
     "data": {
      "text/plain": [
       "fecha\n",
       "2021-01    17\n",
       "2021-07    17\n",
       "2021-06    16\n",
       "2020-05    16\n",
       "2019-11    15\n",
       "Name: count, dtype: int64"
      ]
     },
     "execution_count": 224,
     "metadata": {},
     "output_type": "execute_result"
    }
   ],
   "source": [
    "df_generacion.iloc[get_outliers(df_generacion[\"energia (MWh)\"]).index]['fecha'].value_counts().head()"
   ]
  },
  {
   "cell_type": "markdown",
   "metadata": {},
   "source": [
    "## INE: info demográfica y PIB"
   ]
  },
  {
   "cell_type": "code",
   "execution_count": 225,
   "metadata": {},
   "outputs": [],
   "source": [
    "df_demog = pd.read_csv('datos\\INE\\datos_demograficos.csv', encoding='latin-1', sep=';')\n",
    "provincias = df_demog[\"Provincias\"].unique()"
   ]
  },
  {
   "cell_type": "markdown",
   "metadata": {},
   "source": [
    "Primero voy a hacer un diccionario para mapear las diferentes provincias a los códigos."
   ]
  },
  {
   "cell_type": "code",
   "execution_count": 226,
   "metadata": {},
   "outputs": [],
   "source": [
    "import re\n",
    "\n",
    "cods = dict()\n",
    "for provincia in provincias:\n",
    "    splitted = provincia.split()\n",
    "    cods[\"\".join(re.findall(pattern= r\" (\\D+)\", string=provincia))] = splitted[0]\n",
    "\n",
    "cod_provincias = dict()\n",
    "for k,v in cods.items():\n",
    "    try:\n",
    "        cod_provincias[k] = int(v)\n",
    "    except:\n",
    "        cod_provincias[k] = v"
   ]
  },
  {
   "cell_type": "code",
   "execution_count": 227,
   "metadata": {},
   "outputs": [],
   "source": [
    "df_demog[\"Provincias\"] = df_demog[\"Provincias\"].apply(lambda x:\"\".join(re.findall(pattern= r\" (\\D+)\", string=x))).map(cod_provincias)"
   ]
  },
  {
   "cell_type": "code",
   "execution_count": 228,
   "metadata": {},
   "outputs": [],
   "source": [
    "df_demog[\"Total\"] = df_demog[\"Total\"].apply(decimalpoint)"
   ]
  },
  {
   "cell_type": "code",
   "execution_count": 229,
   "metadata": {},
   "outputs": [
    {
     "name": "stdout",
     "output_type": "stream",
     "text": [
      "<class 'pandas.core.frame.DataFrame'>\n",
      "RangeIndex: 7632 entries, 0 to 7631\n",
      "Data columns (total 6 columns):\n",
      " #   Column                   Non-Null Count  Dtype  \n",
      "---  ------                   --------------  -----  \n",
      " 0   Provincias               7632 non-null   object \n",
      " 1   Edad (3 grupos de edad)  7632 non-null   object \n",
      " 2   Españoles/Extranjeros    7632 non-null   object \n",
      " 3   Sexo                     7632 non-null   object \n",
      " 4   Año                      7632 non-null   int64  \n",
      " 5   Total                    7632 non-null   float64\n",
      "dtypes: float64(1), int64(1), object(4)\n",
      "memory usage: 357.9+ KB\n"
     ]
    }
   ],
   "source": [
    "df_demog.info()"
   ]
  },
  {
   "cell_type": "code",
   "execution_count": 284,
   "metadata": {},
   "outputs": [
    {
     "data": {
      "text/html": [
       "<div>\n",
       "<style scoped>\n",
       "    .dataframe tbody tr th:only-of-type {\n",
       "        vertical-align: middle;\n",
       "    }\n",
       "\n",
       "    .dataframe tbody tr th {\n",
       "        vertical-align: top;\n",
       "    }\n",
       "\n",
       "    .dataframe thead th {\n",
       "        text-align: right;\n",
       "    }\n",
       "</style>\n",
       "<table border=\"1\" class=\"dataframe\">\n",
       "  <thead>\n",
       "    <tr style=\"text-align: right;\">\n",
       "      <th></th>\n",
       "      <th>Provincias</th>\n",
       "      <th>Edad (3 grupos de edad)</th>\n",
       "      <th>Españoles/Extranjeros</th>\n",
       "      <th>Sexo</th>\n",
       "      <th>Año</th>\n",
       "      <th>Total</th>\n",
       "    </tr>\n",
       "  </thead>\n",
       "  <tbody>\n",
       "    <tr>\n",
       "      <th>0</th>\n",
       "      <td>TOTAL</td>\n",
       "      <td>TOTAL EDADES</td>\n",
       "      <td>TOTAL</td>\n",
       "      <td>Ambos sexos</td>\n",
       "      <td>2021</td>\n",
       "      <td>47385107.00</td>\n",
       "    </tr>\n",
       "    <tr>\n",
       "      <th>1</th>\n",
       "      <td>TOTAL</td>\n",
       "      <td>TOTAL EDADES</td>\n",
       "      <td>TOTAL</td>\n",
       "      <td>Ambos sexos</td>\n",
       "      <td>2020</td>\n",
       "      <td>47450795.00</td>\n",
       "    </tr>\n",
       "    <tr>\n",
       "      <th>2</th>\n",
       "      <td>TOTAL</td>\n",
       "      <td>TOTAL EDADES</td>\n",
       "      <td>TOTAL</td>\n",
       "      <td>Ambos sexos</td>\n",
       "      <td>2019</td>\n",
       "      <td>47026208.00</td>\n",
       "    </tr>\n",
       "    <tr>\n",
       "      <th>3</th>\n",
       "      <td>TOTAL</td>\n",
       "      <td>TOTAL EDADES</td>\n",
       "      <td>TOTAL</td>\n",
       "      <td>Hombres</td>\n",
       "      <td>2021</td>\n",
       "      <td>23222953.00</td>\n",
       "    </tr>\n",
       "    <tr>\n",
       "      <th>4</th>\n",
       "      <td>TOTAL</td>\n",
       "      <td>TOTAL EDADES</td>\n",
       "      <td>TOTAL</td>\n",
       "      <td>Hombres</td>\n",
       "      <td>2020</td>\n",
       "      <td>23255590.00</td>\n",
       "    </tr>\n",
       "    <tr>\n",
       "      <th>...</th>\n",
       "      <td>...</td>\n",
       "      <td>...</td>\n",
       "      <td>...</td>\n",
       "      <td>...</td>\n",
       "      <td>...</td>\n",
       "      <td>...</td>\n",
       "    </tr>\n",
       "    <tr>\n",
       "      <th>7627</th>\n",
       "      <td>52</td>\n",
       "      <td>65 y más</td>\n",
       "      <td>% Extranjeros</td>\n",
       "      <td>Hombres</td>\n",
       "      <td>2020</td>\n",
       "      <td>10.86</td>\n",
       "    </tr>\n",
       "    <tr>\n",
       "      <th>7628</th>\n",
       "      <td>52</td>\n",
       "      <td>65 y más</td>\n",
       "      <td>% Extranjeros</td>\n",
       "      <td>Hombres</td>\n",
       "      <td>2019</td>\n",
       "      <td>10.73</td>\n",
       "    </tr>\n",
       "    <tr>\n",
       "      <th>7629</th>\n",
       "      <td>52</td>\n",
       "      <td>65 y más</td>\n",
       "      <td>% Extranjeros</td>\n",
       "      <td>Mujeres</td>\n",
       "      <td>2021</td>\n",
       "      <td>9.55</td>\n",
       "    </tr>\n",
       "    <tr>\n",
       "      <th>7630</th>\n",
       "      <td>52</td>\n",
       "      <td>65 y más</td>\n",
       "      <td>% Extranjeros</td>\n",
       "      <td>Mujeres</td>\n",
       "      <td>2020</td>\n",
       "      <td>9.55</td>\n",
       "    </tr>\n",
       "    <tr>\n",
       "      <th>7631</th>\n",
       "      <td>52</td>\n",
       "      <td>65 y más</td>\n",
       "      <td>% Extranjeros</td>\n",
       "      <td>Mujeres</td>\n",
       "      <td>2019</td>\n",
       "      <td>8.96</td>\n",
       "    </tr>\n",
       "  </tbody>\n",
       "</table>\n",
       "<p>7632 rows × 6 columns</p>\n",
       "</div>"
      ],
      "text/plain": [
       "     Provincias Edad (3 grupos de edad) Españoles/Extranjeros         Sexo  \\\n",
       "0         TOTAL            TOTAL EDADES                 TOTAL  Ambos sexos   \n",
       "1         TOTAL            TOTAL EDADES                 TOTAL  Ambos sexos   \n",
       "2         TOTAL            TOTAL EDADES                 TOTAL  Ambos sexos   \n",
       "3         TOTAL            TOTAL EDADES                 TOTAL      Hombres   \n",
       "4         TOTAL            TOTAL EDADES                 TOTAL      Hombres   \n",
       "...         ...                     ...                   ...          ...   \n",
       "7627         52                65 y más         % Extranjeros      Hombres   \n",
       "7628         52                65 y más         % Extranjeros      Hombres   \n",
       "7629         52                65 y más         % Extranjeros      Mujeres   \n",
       "7630         52                65 y más         % Extranjeros      Mujeres   \n",
       "7631         52                65 y más         % Extranjeros      Mujeres   \n",
       "\n",
       "       Año        Total  \n",
       "0     2021  47385107.00  \n",
       "1     2020  47450795.00  \n",
       "2     2019  47026208.00  \n",
       "3     2021  23222953.00  \n",
       "4     2020  23255590.00  \n",
       "...    ...          ...  \n",
       "7627  2020        10.86  \n",
       "7628  2019        10.73  \n",
       "7629  2021         9.55  \n",
       "7630  2020         9.55  \n",
       "7631  2019         8.96  \n",
       "\n",
       "[7632 rows x 6 columns]"
      ]
     },
     "execution_count": 284,
     "metadata": {},
     "output_type": "execute_result"
    }
   ],
   "source": [
    "df_demog"
   ]
  },
  {
   "cell_type": "code",
   "execution_count": 267,
   "metadata": {},
   "outputs": [],
   "source": [
    "df_pib = pd.read_csv('datos\\INE\\datos_pib.csv', encoding='latin-1', sep = ';')"
   ]
  },
  {
   "cell_type": "code",
   "execution_count": 268,
   "metadata": {},
   "outputs": [],
   "source": [
    "df_pib[\"Provincias\"] = df_pib[\"Provincias\"].apply(lambda x:\"\".join(re.findall(pattern= r\" (\\D+)\", string=x))).map(cod_provincias)"
   ]
  },
  {
   "cell_type": "code",
   "execution_count": 269,
   "metadata": {},
   "outputs": [],
   "source": [
    "df_pib[\"periodo\"] = df_pib[\"periodo\"].str.replace('(P)', \"\").apply(int)"
   ]
  },
  {
   "cell_type": "code",
   "execution_count": 270,
   "metadata": {},
   "outputs": [],
   "source": [
    "df_pib[\"Total\"] = df_pib[\"Total\"].apply(decimalpoint)"
   ]
  },
  {
   "cell_type": "code",
   "execution_count": 272,
   "metadata": {},
   "outputs": [],
   "source": [
    "df_pib.drop(index= df_pib[df_pib[\"Ramas de actividad\"] == 'PRODUCTO INTERIOR BRUTO A PRECIOS DE MERCADO'].index, inplace=True)"
   ]
  },
  {
   "cell_type": "code",
   "execution_count": 274,
   "metadata": {},
   "outputs": [
    {
     "data": {
      "text/html": [
       "<div>\n",
       "<style scoped>\n",
       "    .dataframe tbody tr th:only-of-type {\n",
       "        vertical-align: middle;\n",
       "    }\n",
       "\n",
       "    .dataframe tbody tr th {\n",
       "        vertical-align: top;\n",
       "    }\n",
       "\n",
       "    .dataframe thead th {\n",
       "        text-align: right;\n",
       "    }\n",
       "</style>\n",
       "<table border=\"1\" class=\"dataframe\">\n",
       "  <thead>\n",
       "    <tr style=\"text-align: right;\">\n",
       "      <th></th>\n",
       "      <th>Provincias</th>\n",
       "      <th>Ramas de actividad</th>\n",
       "      <th>periodo</th>\n",
       "      <th>Total</th>\n",
       "    </tr>\n",
       "  </thead>\n",
       "  <tbody>\n",
       "    <tr>\n",
       "      <th>0</th>\n",
       "      <td>2</td>\n",
       "      <td>A. Agricultura, ganadería, silvicultura y pesca</td>\n",
       "      <td>2021</td>\n",
       "      <td>884324.0</td>\n",
       "    </tr>\n",
       "    <tr>\n",
       "      <th>1</th>\n",
       "      <td>2</td>\n",
       "      <td>A. Agricultura, ganadería, silvicultura y pesca</td>\n",
       "      <td>2020</td>\n",
       "      <td>768976.0</td>\n",
       "    </tr>\n",
       "    <tr>\n",
       "      <th>2</th>\n",
       "      <td>2</td>\n",
       "      <td>A. Agricultura, ganadería, silvicultura y pesca</td>\n",
       "      <td>2019</td>\n",
       "      <td>791464.0</td>\n",
       "    </tr>\n",
       "    <tr>\n",
       "      <th>3</th>\n",
       "      <td>2</td>\n",
       "      <td>B_E. Industrias extractivas, industria manufac...</td>\n",
       "      <td>2021</td>\n",
       "      <td>1397006.0</td>\n",
       "    </tr>\n",
       "    <tr>\n",
       "      <th>4</th>\n",
       "      <td>2</td>\n",
       "      <td>B_E. Industrias extractivas, industria manufac...</td>\n",
       "      <td>2020</td>\n",
       "      <td>1194438.0</td>\n",
       "    </tr>\n",
       "    <tr>\n",
       "      <th>...</th>\n",
       "      <td>...</td>\n",
       "      <td>...</td>\n",
       "      <td>...</td>\n",
       "      <td>...</td>\n",
       "    </tr>\n",
       "    <tr>\n",
       "      <th>1399</th>\n",
       "      <td>52</td>\n",
       "      <td>Valor añadido bruto total</td>\n",
       "      <td>2020</td>\n",
       "      <td>1381519.0</td>\n",
       "    </tr>\n",
       "    <tr>\n",
       "      <th>1400</th>\n",
       "      <td>52</td>\n",
       "      <td>Valor añadido bruto total</td>\n",
       "      <td>2019</td>\n",
       "      <td>1473873.0</td>\n",
       "    </tr>\n",
       "    <tr>\n",
       "      <th>1401</th>\n",
       "      <td>52</td>\n",
       "      <td>Impuestos netos sobre los productos</td>\n",
       "      <td>2021</td>\n",
       "      <td>153994.0</td>\n",
       "    </tr>\n",
       "    <tr>\n",
       "      <th>1402</th>\n",
       "      <td>52</td>\n",
       "      <td>Impuestos netos sobre los productos</td>\n",
       "      <td>2020</td>\n",
       "      <td>132490.0</td>\n",
       "    </tr>\n",
       "    <tr>\n",
       "      <th>1403</th>\n",
       "      <td>52</td>\n",
       "      <td>Impuestos netos sobre los productos</td>\n",
       "      <td>2019</td>\n",
       "      <td>151213.0</td>\n",
       "    </tr>\n",
       "  </tbody>\n",
       "</table>\n",
       "<p>1404 rows × 4 columns</p>\n",
       "</div>"
      ],
      "text/plain": [
       "     Provincias                                 Ramas de actividad  periodo  \\\n",
       "0             2    A. Agricultura, ganadería, silvicultura y pesca     2021   \n",
       "1             2    A. Agricultura, ganadería, silvicultura y pesca     2020   \n",
       "2             2    A. Agricultura, ganadería, silvicultura y pesca     2019   \n",
       "3             2  B_E. Industrias extractivas, industria manufac...     2021   \n",
       "4             2  B_E. Industrias extractivas, industria manufac...     2020   \n",
       "...         ...                                                ...      ...   \n",
       "1399         52                          Valor añadido bruto total     2020   \n",
       "1400         52                          Valor añadido bruto total     2019   \n",
       "1401         52                Impuestos netos sobre los productos     2021   \n",
       "1402         52                Impuestos netos sobre los productos     2020   \n",
       "1403         52                Impuestos netos sobre los productos     2019   \n",
       "\n",
       "          Total  \n",
       "0      884324.0  \n",
       "1      768976.0  \n",
       "2      791464.0  \n",
       "3     1397006.0  \n",
       "4     1194438.0  \n",
       "...         ...  \n",
       "1399  1381519.0  \n",
       "1400  1473873.0  \n",
       "1401   153994.0  \n",
       "1402   132490.0  \n",
       "1403   151213.0  \n",
       "\n",
       "[1404 rows x 4 columns]"
      ]
     },
     "execution_count": 274,
     "metadata": {},
     "output_type": "execute_result"
    }
   ],
   "source": [
    "df_pib.reset_index(drop=True)"
   ]
  },
  {
   "cell_type": "code",
   "execution_count": 254,
   "metadata": {},
   "outputs": [
    {
     "data": {
      "text/html": [
       "<div>\n",
       "<style scoped>\n",
       "    .dataframe tbody tr th:only-of-type {\n",
       "        vertical-align: middle;\n",
       "    }\n",
       "\n",
       "    .dataframe tbody tr th {\n",
       "        vertical-align: top;\n",
       "    }\n",
       "\n",
       "    .dataframe thead th {\n",
       "        text-align: right;\n",
       "    }\n",
       "</style>\n",
       "<table border=\"1\" class=\"dataframe\">\n",
       "  <thead>\n",
       "    <tr style=\"text-align: right;\">\n",
       "      <th></th>\n",
       "      <th>fecha</th>\n",
       "      <th>code_com</th>\n",
       "      <th>type</th>\n",
       "      <th>percentage</th>\n",
       "      <th>energia (MWh)</th>\n",
       "    </tr>\n",
       "  </thead>\n",
       "  <tbody>\n",
       "    <tr>\n",
       "      <th>0</th>\n",
       "      <td>2019-01</td>\n",
       "      <td>4</td>\n",
       "      <td>Eólica</td>\n",
       "      <td>0.638703</td>\n",
       "      <td>547209.8430</td>\n",
       "    </tr>\n",
       "    <tr>\n",
       "      <th>1</th>\n",
       "      <td>2019-01</td>\n",
       "      <td>4</td>\n",
       "      <td>Generación renovable</td>\n",
       "      <td>1.000000</td>\n",
       "      <td>856751.4350</td>\n",
       "    </tr>\n",
       "    <tr>\n",
       "      <th>2</th>\n",
       "      <td>2019-01</td>\n",
       "      <td>4</td>\n",
       "      <td>Hidráulica</td>\n",
       "      <td>0.029517</td>\n",
       "      <td>25288.6050</td>\n",
       "    </tr>\n",
       "    <tr>\n",
       "      <th>3</th>\n",
       "      <td>2019-01</td>\n",
       "      <td>4</td>\n",
       "      <td>Otras renovables</td>\n",
       "      <td>0.127868</td>\n",
       "      <td>109551.1710</td>\n",
       "    </tr>\n",
       "    <tr>\n",
       "      <th>4</th>\n",
       "      <td>2019-01</td>\n",
       "      <td>4</td>\n",
       "      <td>Solar fotovoltaica</td>\n",
       "      <td>0.116924</td>\n",
       "      <td>100175.1370</td>\n",
       "    </tr>\n",
       "    <tr>\n",
       "      <th>...</th>\n",
       "      <td>...</td>\n",
       "      <td>...</td>\n",
       "      <td>...</td>\n",
       "      <td>...</td>\n",
       "      <td>...</td>\n",
       "    </tr>\n",
       "    <tr>\n",
       "      <th>3552</th>\n",
       "      <td>2021-12</td>\n",
       "      <td>8743</td>\n",
       "      <td>Residuos renovables</td>\n",
       "      <td>0.435657</td>\n",
       "      <td>8866.0930</td>\n",
       "    </tr>\n",
       "    <tr>\n",
       "      <th>3553</th>\n",
       "      <td>2021-12</td>\n",
       "      <td>8743</td>\n",
       "      <td>Solar fotovoltaica</td>\n",
       "      <td>0.548044</td>\n",
       "      <td>11153.2820</td>\n",
       "    </tr>\n",
       "    <tr>\n",
       "      <th>3554</th>\n",
       "      <td>2021-12</td>\n",
       "      <td>8745</td>\n",
       "      <td>Generación renovable</td>\n",
       "      <td>1.000000</td>\n",
       "      <td>540.1755</td>\n",
       "    </tr>\n",
       "    <tr>\n",
       "      <th>3555</th>\n",
       "      <td>2021-12</td>\n",
       "      <td>8745</td>\n",
       "      <td>Residuos renovables</td>\n",
       "      <td>1.000000</td>\n",
       "      <td>536.5155</td>\n",
       "    </tr>\n",
       "    <tr>\n",
       "      <th>3556</th>\n",
       "      <td>2021-12</td>\n",
       "      <td>8745</td>\n",
       "      <td>Solar fotovoltaica</td>\n",
       "      <td>1.000000</td>\n",
       "      <td>3.6600</td>\n",
       "    </tr>\n",
       "  </tbody>\n",
       "</table>\n",
       "<p>3557 rows × 5 columns</p>\n",
       "</div>"
      ],
      "text/plain": [
       "        fecha  code_com                  type  percentage  energia (MWh)\n",
       "0     2019-01         4                Eólica    0.638703    547209.8430\n",
       "1     2019-01         4  Generación renovable    1.000000    856751.4350\n",
       "2     2019-01         4            Hidráulica    0.029517     25288.6050\n",
       "3     2019-01         4      Otras renovables    0.127868    109551.1710\n",
       "4     2019-01         4    Solar fotovoltaica    0.116924    100175.1370\n",
       "...       ...       ...                   ...         ...            ...\n",
       "3552  2021-12      8743   Residuos renovables    0.435657      8866.0930\n",
       "3553  2021-12      8743    Solar fotovoltaica    0.548044     11153.2820\n",
       "3554  2021-12      8745  Generación renovable    1.000000       540.1755\n",
       "3555  2021-12      8745   Residuos renovables    1.000000       536.5155\n",
       "3556  2021-12      8745    Solar fotovoltaica    1.000000         3.6600\n",
       "\n",
       "[3557 rows x 5 columns]"
      ]
     },
     "execution_count": 254,
     "metadata": {},
     "output_type": "execute_result"
    }
   ],
   "source": [
    "df_generacion.groupby([\"fecha\", \"code_com\", \"type\", \"percentage\"])[\"energia (MWh)\"].mean().reset_index()"
   ]
  },
  {
   "cell_type": "code",
   "execution_count": 280,
   "metadata": {},
   "outputs": [
    {
     "data": {
      "text/html": [
       "<div>\n",
       "<style scoped>\n",
       "    .dataframe tbody tr th:only-of-type {\n",
       "        vertical-align: middle;\n",
       "    }\n",
       "\n",
       "    .dataframe tbody tr th {\n",
       "        vertical-align: top;\n",
       "    }\n",
       "\n",
       "    .dataframe thead th {\n",
       "        text-align: right;\n",
       "    }\n",
       "</style>\n",
       "<table border=\"1\" class=\"dataframe\">\n",
       "  <thead>\n",
       "    <tr style=\"text-align: right;\">\n",
       "      <th></th>\n",
       "      <th>energia (MWh)</th>\n",
       "      <th>percentage</th>\n",
       "      <th>type</th>\n",
       "      <th>code_com</th>\n",
       "      <th>fecha</th>\n",
       "    </tr>\n",
       "  </thead>\n",
       "  <tbody>\n",
       "    <tr>\n",
       "      <th>3328</th>\n",
       "      <td>3.66</td>\n",
       "      <td>1.0</td>\n",
       "      <td>Solar fotovoltaica</td>\n",
       "      <td>8745</td>\n",
       "      <td>2021-12</td>\n",
       "    </tr>\n",
       "  </tbody>\n",
       "</table>\n",
       "</div>"
      ],
      "text/plain": [
       "      energia (MWh)  percentage                type  code_com    fecha\n",
       "3328           3.66         1.0  Solar fotovoltaica      8745  2021-12"
      ]
     },
     "execution_count": 280,
     "metadata": {},
     "output_type": "execute_result"
    }
   ],
   "source": [
    "df_generacion[(df_generacion[\"percentage\"] == 1) & (df_generacion[\"type\"] == 'Solar fotovoltaica')]"
   ]
  },
  {
   "cell_type": "code",
   "execution_count": 283,
   "metadata": {},
   "outputs": [
    {
     "data": {
      "text/html": [
       "<div>\n",
       "<style scoped>\n",
       "    .dataframe tbody tr th:only-of-type {\n",
       "        vertical-align: middle;\n",
       "    }\n",
       "\n",
       "    .dataframe tbody tr th {\n",
       "        vertical-align: top;\n",
       "    }\n",
       "\n",
       "    .dataframe thead th {\n",
       "        text-align: right;\n",
       "    }\n",
       "</style>\n",
       "<table border=\"1\" class=\"dataframe\">\n",
       "  <thead>\n",
       "    <tr style=\"text-align: right;\">\n",
       "      <th></th>\n",
       "      <th>energia (MWh)</th>\n",
       "      <th>percentage</th>\n",
       "      <th>type</th>\n",
       "      <th>code_com</th>\n",
       "      <th>fecha</th>\n",
       "    </tr>\n",
       "  </thead>\n",
       "  <tbody>\n",
       "    <tr>\n",
       "      <th>3328</th>\n",
       "      <td>3.6600</td>\n",
       "      <td>1.0</td>\n",
       "      <td>Solar fotovoltaica</td>\n",
       "      <td>8745</td>\n",
       "      <td>2021-12</td>\n",
       "    </tr>\n",
       "    <tr>\n",
       "      <th>3340</th>\n",
       "      <td>536.5155</td>\n",
       "      <td>1.0</td>\n",
       "      <td>Residuos renovables</td>\n",
       "      <td>8745</td>\n",
       "      <td>2021-12</td>\n",
       "    </tr>\n",
       "    <tr>\n",
       "      <th>3351</th>\n",
       "      <td>540.1755</td>\n",
       "      <td>1.0</td>\n",
       "      <td>Generación renovable</td>\n",
       "      <td>8745</td>\n",
       "      <td>2021-12</td>\n",
       "    </tr>\n",
       "  </tbody>\n",
       "</table>\n",
       "</div>"
      ],
      "text/plain": [
       "      energia (MWh)  percentage                  type  code_com    fecha\n",
       "3328         3.6600         1.0    Solar fotovoltaica      8745  2021-12\n",
       "3340       536.5155         1.0   Residuos renovables      8745  2021-12\n",
       "3351       540.1755         1.0  Generación renovable      8745  2021-12"
      ]
     },
     "execution_count": 283,
     "metadata": {},
     "output_type": "execute_result"
    }
   ],
   "source": [
    "df_generacion[(df_generacion[\"code_com\"] == 8745)&(df_generacion[\"fecha\"] == '2021-12')]"
   ]
  },
  {
   "cell_type": "code",
   "execution_count": 298,
   "metadata": {},
   "outputs": [
    {
     "data": {
      "text/html": [
       "<div>\n",
       "<style scoped>\n",
       "    .dataframe tbody tr th:only-of-type {\n",
       "        vertical-align: middle;\n",
       "    }\n",
       "\n",
       "    .dataframe tbody tr th {\n",
       "        vertical-align: top;\n",
       "    }\n",
       "\n",
       "    .dataframe thead th {\n",
       "        text-align: right;\n",
       "    }\n",
       "</style>\n",
       "<table border=\"1\" class=\"dataframe\">\n",
       "  <thead>\n",
       "    <tr style=\"text-align: right;\">\n",
       "      <th></th>\n",
       "      <th>energia (MWh)</th>\n",
       "      <th>percentage</th>\n",
       "      <th>type</th>\n",
       "      <th>code_com</th>\n",
       "      <th>fecha</th>\n",
       "    </tr>\n",
       "  </thead>\n",
       "  <tbody>\n",
       "    <tr>\n",
       "      <th>2873</th>\n",
       "      <td>4046.7560</td>\n",
       "      <td>0.133001</td>\n",
       "      <td>Hidráulica</td>\n",
       "      <td>13</td>\n",
       "      <td>2021-12</td>\n",
       "    </tr>\n",
       "    <tr>\n",
       "      <th>2885</th>\n",
       "      <td>3622.2120</td>\n",
       "      <td>0.119048</td>\n",
       "      <td>Solar fotovoltaica</td>\n",
       "      <td>13</td>\n",
       "      <td>2021-12</td>\n",
       "    </tr>\n",
       "    <tr>\n",
       "      <th>2897</th>\n",
       "      <td>15386.2810</td>\n",
       "      <td>0.505686</td>\n",
       "      <td>Otras renovables</td>\n",
       "      <td>13</td>\n",
       "      <td>2021-12</td>\n",
       "    </tr>\n",
       "    <tr>\n",
       "      <th>2909</th>\n",
       "      <td>7371.3225</td>\n",
       "      <td>0.242266</td>\n",
       "      <td>Residuos renovables</td>\n",
       "      <td>13</td>\n",
       "      <td>2021-12</td>\n",
       "    </tr>\n",
       "    <tr>\n",
       "      <th>2921</th>\n",
       "      <td>30426.5715</td>\n",
       "      <td>1.000000</td>\n",
       "      <td>Generación renovable</td>\n",
       "      <td>13</td>\n",
       "      <td>2021-12</td>\n",
       "    </tr>\n",
       "  </tbody>\n",
       "</table>\n",
       "</div>"
      ],
      "text/plain": [
       "      energia (MWh)  percentage                  type  code_com    fecha\n",
       "2873      4046.7560    0.133001            Hidráulica        13  2021-12\n",
       "2885      3622.2120    0.119048    Solar fotovoltaica        13  2021-12\n",
       "2897     15386.2810    0.505686      Otras renovables        13  2021-12\n",
       "2909      7371.3225    0.242266   Residuos renovables        13  2021-12\n",
       "2921     30426.5715    1.000000  Generación renovable        13  2021-12"
      ]
     },
     "execution_count": 298,
     "metadata": {},
     "output_type": "execute_result"
    }
   ],
   "source": [
    "df_generacion[(df_generacion[\"fecha\"] == '2021-12')&(df_generacion[\"code_com\"] == 13)]"
   ]
  },
  {
   "cell_type": "code",
   "execution_count": 303,
   "metadata": {},
   "outputs": [],
   "source": [
    "df_demanda[\"fecha\"] = pd.to_datetime(df_demanda[\"fecha\"])"
   ]
  },
  {
   "cell_type": "code",
   "execution_count": 308,
   "metadata": {},
   "outputs": [],
   "source": [
    "df_demanda[\"mes\"] = df_demanda[\"fecha\"].apply(lambda x: x.month)\n",
    "df_demanda[\"year\"] = df_demanda[\"fecha\"].apply(lambda x: x.year)"
   ]
  },
  {
   "cell_type": "code",
   "execution_count": 312,
   "metadata": {},
   "outputs": [],
   "source": [
    "df_demanda.drop(columns=\"fecha\", inplace=True)"
   ]
  },
  {
   "cell_type": "code",
   "execution_count": 315,
   "metadata": {},
   "outputs": [
    {
     "data": {
      "text/plain": [
       "year\n",
       "2019    1.160806e+06\n",
       "2020    1.096713e+06\n",
       "2021    1.125201e+06\n",
       "Name: value, dtype: float64"
      ]
     },
     "execution_count": 315,
     "metadata": {},
     "output_type": "execute_result"
    }
   ],
   "source": [
    "df_demanda.groupby('year')[\"value\"].mean()"
   ]
  },
  {
   "cell_type": "code",
   "execution_count": 281,
   "metadata": {},
   "outputs": [
    {
     "data": {
      "text/plain": [
       "{'Ceuta': 8744,\n",
       " 'Melilla': 8745,\n",
       " 'Andalucía': 4,\n",
       " 'Aragón': 5,\n",
       " 'Cantabria': 6,\n",
       " 'Castilla - La Mancha': 7,\n",
       " 'Castilla y León': 8,\n",
       " 'Cataluña': 9,\n",
       " 'País Vasco': 10,\n",
       " 'Principado de Asturias': 11,\n",
       " 'Comunidad de Madrid': 13,\n",
       " 'Comunidad Foral de Navarra': 14,\n",
       " 'Comunitat Valenciana': 15,\n",
       " 'Extremadura': 16,\n",
       " 'Galicia': 17,\n",
       " 'Illes Balears': 8743,\n",
       " 'Canarias': 8742,\n",
       " 'Región de Murcia': 21,\n",
       " 'La Rioja': 20}"
      ]
     },
     "execution_count": 281,
     "metadata": {},
     "output_type": "execute_result"
    }
   ],
   "source": [
    "cod_comunidades"
   ]
  },
  {
   "cell_type": "code",
   "execution_count": 253,
   "metadata": {},
   "outputs": [
    {
     "data": {
      "text/plain": [
       "array(['2019-01', '2019-02', '2019-03', '2019-04', '2019-05', '2019-06',\n",
       "       '2019-07', '2019-08', '2019-09', '2019-10', '2019-11', '2019-12',\n",
       "       '2020-01', '2020-02', '2020-03', '2020-04', '2020-05', '2020-06',\n",
       "       '2020-07', '2020-08', '2020-09', '2020-10', '2020-11', '2020-12',\n",
       "       '2021-01', '2021-02', '2021-03', '2021-04', '2021-05', '2021-06',\n",
       "       '2021-07', '2021-08', '2021-09', '2021-10', '2021-11', '2021-12'],\n",
       "      dtype=object)"
      ]
     },
     "execution_count": 253,
     "metadata": {},
     "output_type": "execute_result"
    }
   ],
   "source": [
    "df_generacion.fecha.unique()"
   ]
  }
 ],
 "metadata": {
  "kernelspec": {
   "display_name": "Python 3",
   "language": "python",
   "name": "python3"
  },
  "language_info": {
   "codemirror_mode": {
    "name": "ipython",
    "version": 3
   },
   "file_extension": ".py",
   "mimetype": "text/x-python",
   "name": "python",
   "nbconvert_exporter": "python",
   "pygments_lexer": "ipython3",
   "version": "3.11.9"
  }
 },
 "nbformat": 4,
 "nbformat_minor": 2
}
