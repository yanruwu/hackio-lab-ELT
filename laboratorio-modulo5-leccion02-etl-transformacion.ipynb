{
 "cells": [
  {
   "cell_type": "markdown",
   "metadata": {},
   "source": [
    "<div style=\"text-align: center;\">\n",
    "  <img src=\"https://github.com/Hack-io-Data/Imagenes/blob/main/01-LogosHackio/logo_amarillo@4x.png?raw=true\" alt=\"esquema\" />\n",
    "</div>"
   ]
  },
  {
   "cell_type": "markdown",
   "metadata": {},
   "source": [
    "\n",
    "# Laboratorio ETL: Análisis del Sistema Energético en España\n",
    "\n",
    "## Objetivo\n",
    "\n",
    "Durante todos los laboratorios de esta semana realizarás un proceso completo de ETL para analizar la relación entre la demanda, el consumo y la generación eléctrica en diferentes provincias de España a lo largo de un año. Además, complementarán este análisis con datos demográficos y económicos extraídos del Instituto Nacional de Estadística (INE). El **objetivo principal** del análisis es **examinar cómo la demanda, el consumo y la generación eléctrica en diferentes provincias de España a lo largo de los años están influenciados por factores demográficos y económicos, como la población y el PIB provincial**. El análisis busca identificar patrones y correlaciones entre estas variables para comprender mejor las dinámicas energéticas regionales y su relación con el desarrollo socioeconómico en España.\n",
    "\n",
    "Antes de realizar el análisis, vamos a definir las hipótesis con las que vamos a trabajar, las cuales definirán todo tu análisis y planteamiento de los laboratorios: \n",
    "\n",
    "- **Hipótesis 1: La demanda eléctrica está correlacionada con la población de la provincia.** Provincias con mayor población tienden a tener una mayor demanda eléctrica.\n",
    "  \n",
    "- **Hipótesis 2: El crecimiento económico (medido por el PIB) está correlacionado con el consumo eléctrico.** Las provincias con un PIB más alto o en crecimiento experimentan un mayor consumo de energía.\n",
    "\n",
    "- **Hipótesis 3: La proporción de generación renovable está relacionada con factores económicos o geográficos.** Provincias con un mayor desarrollo económico o con condiciones geográficas favorables (como más horas de sol o viento) tienden a generar más energía renovable.\n",
    "\n",
    "\n",
    "## Tareas Laboratorio Transformación\n",
    "\n",
    "En este laboratorio, tu objetivo será limpiar y preparar los datos extraídos previamente de diferentes fuentes para su posterior análisis. Trabajarás con datos provenientes de la API de Red Eléctrica Española (REE) y del Instituto Nacional de Estadística (INE). Estos datos incluyen información sobre demanda y generación eléctrica a nivel provincial, así como datos demográficos y económicos. \n",
    "\n",
    "\n",
    "- Cargar los Datos Extraídos:\n",
    "\n",
    "  - **Demanda Eléctrica:** Carga los datos de demanda eléctrica extraídos de la API de REE.\n",
    "\n",
    "  - **Generación Eléctrica:** Carga los datos de generación eléctrica diferenciados por tipo de energía (eólica, solar, hidroeléctrica, etc.) a nivel provincial.\n",
    "\n",
    "  - **Datos Demográficos:** Carga los datos demográficos por provincia extraídos de la web del INE.\n",
    "\n",
    "  - **Datos Económicos:** Carga los datos del PIB por provincia obtenidos del INE.\n",
    "\n",
    "\n",
    "-Limpieza de Datos:\n",
    "\n",
    "- Datos de la API de REE:\n",
    "\n",
    "  - **Demanda Eléctrica:**\n",
    "\n",
    "    - **Conversión de Timestamps:** Asegúrate de que las fechas estén correctamente formateadas en `datetime`. Si es necesario, convierte los datos a un formato uniforme (por ejemplo, `YYYY-MM` para datos mensuales).\n",
    "\n",
    "    - **Tratamiento de Valores Nulos:** Identifica y maneja los valores nulos en caso de que los haya. Puedes optar por eliminar filas con valores faltantes.\n",
    "\n",
    "    - **Estandarización de Nombres de Provincias:** Verifica que los nombres de las provincias estén estandarizados y coincidan en todos los conjuntos de datos. Si hay inconsistencias, corrígelas.\n",
    "\n",
    "  - **Generación Eléctrica:**\n",
    "\n",
    "    - **Desagregación de Tecnologías:** Asegúrate de que los datos estén correctamente desglosados por tipo de energía. Revisa que los campos correspondientes a energía eólica, solar, hidroeléctrica, etc., estén bien identificados y sin errores.\n",
    "\n",
    "    - **Normalización de Unidades:** Verifica que las unidades de energía estén estandarizadas (por ejemplo, MWh). Realiza las conversiones necesarias si se encuentran en otras unidades.\n",
    "\n",
    "    - **Identificación de Outliers:** Revisa los valores extremos o atípicos en la generación de energía y decide si deben ser tratados o eliminados.\n",
    "\n",
    "- Datos del INE:\n",
    "\n",
    "  - **Datos Demográficos:**\n",
    "\n",
    "    - **Consistencia en la Codificación de Provincias:** Asegúrate de que los nombres de las provincias en los datos demográficos coincidan con los nombres utilizados en los datos eléctricos.\n",
    "\n",
    "    - **Revisión de Categorías:** Verifica que las categorías de edad, sexo, y nacionalidad estén correctamente etiquetadas y sean consistentes en todo el dataset.\n",
    "\n",
    "    - **Manejo de Valores Faltantes:** Revisa la presencia de valores faltantes y decide cómo tratarlos (relleno, eliminación o sustitución).\n",
    "\n",
    "  - **Datos Económicos:**\n",
    "\n",
    "    - **Normalización del PIB:** Si los datos del PIB están en diferentes unidades o escalas, asegúrate de normalizarlos para que sean comparables entre provincias.\n",
    "\n",
    "    - **Agrupación Temporal:** Si los datos económicos están disponibles en diferentes periodos temporales, agrúpalos y normalízalos para que coincidan con los datos eléctricos en términos de granularidad temporal (mensual o anual).\n",
    "\n",
    "NOTA: Ten en cuenta que los datos los vamos a tener que insertar en una base de datos mañana, por lo que toda esta limpieza os recomendamos que la penséis para poder crear e insertar los datos mañana. "
   ]
  },
  {
   "cell_type": "code",
   "execution_count": 211,
   "metadata": {},
   "outputs": [],
   "source": [
    "import pandas as pd\n",
    "import os\n",
    "import seaborn as sns\n",
    "import matplotlib.pyplot as plt"
   ]
  },
  {
   "cell_type": "code",
   "execution_count": 212,
   "metadata": {},
   "outputs": [],
   "source": [
    "def get_outliers(data):\n",
    "    \"\"\"\n",
    "    Detecta valores atípicos en un conjunto de datos utilizando el método del rango intercuartílico (IQR).\n",
    "\n",
    "    Args:\n",
    "        data (Series): Serie de pandas que contiene los datos numéricos para analizar.\n",
    "\n",
    "    Returns:\n",
    "        Series: Serie de pandas que contiene los valores atípicos detectados.\n",
    "    \"\"\"\n",
    "    q1,q3 = data.quantile([0.25,0.75])\n",
    "    iqr = q3-q1\n",
    "    upper_fence = q3 + (1.5*iqr)\n",
    "    lower_fence = q1 - (1.5*iqr)\n",
    "    outliers = data[(data < lower_fence) | (data > upper_fence)]\n",
    "    # print(iqr)\n",
    "    # print(lower_fence, upper_fence)\n",
    "    return outliers\n",
    "\n",
    "def decimalpoint(string_num):\n",
    "    return float(string_num.replace('.', '').replace(',','.'))"
   ]
  },
  {
   "cell_type": "code",
   "execution_count": 213,
   "metadata": {},
   "outputs": [],
   "source": [
    "cod_comunidades = {'Ceuta': 8744,\n",
    "                    'Melilla': 8745,\n",
    "                    'Andalucía': 4,\n",
    "                    'Aragón': 5,\n",
    "                    'Cantabria': 6,\n",
    "                    'Castilla - La Mancha': 7,\n",
    "                    'Castilla y León': 8,\n",
    "                    'Cataluña': 9,\n",
    "                    'País Vasco': 10,\n",
    "                    'Principado de Asturias': 11,\n",
    "                    'Comunidad de Madrid': 13,\n",
    "                    'Comunidad Foral de Navarra': 14,\n",
    "                    'Comunitat Valenciana': 15,\n",
    "                    'Extremadura': 16,\n",
    "                    'Galicia': 17,\n",
    "                    'Illes Balears': 8743,\n",
    "                    'Canarias': 8742,\n",
    "                    'Región de Murcia': 21,\n",
    "                    'La Rioja': 20}\n",
    "\n",
    "code_mapper = dict()\n",
    "for k,v in cod_comunidades.items():\n",
    "    code_mapper[v] = k"
   ]
  },
  {
   "cell_type": "markdown",
   "metadata": {},
   "source": [
    "## Demanda y generación energética"
   ]
  },
  {
   "cell_type": "code",
   "execution_count": 214,
   "metadata": {},
   "outputs": [],
   "source": [
    "def extraer_df(ruta):\n",
    "    years = os.listdir(ruta)\n",
    "    df_final = pd.DataFrame()\n",
    "    for year in years:\n",
    "        ruta_year = os.path.join(ruta, year)\n",
    "        files = os.listdir(ruta_year)\n",
    "        df_com = pd.DataFrame()\n",
    "        for file in files:\n",
    "            ruta_file = os.path.join(ruta_year, file)\n",
    "            df_archivo = pd.read_csv(ruta_file, index_col=0)\n",
    "            df_archivo[\"code_com\"] = cod_comunidades[file.split('.')[0]]\n",
    "            df_com = pd.concat([df_com, df_archivo])\n",
    "        df_final = pd.concat([df_final,df_com])\n",
    "        df_final.reset_index(drop=True, inplace=True)\n",
    "    df_final[\"mes\"] = df_final[\"datetime\"].apply(lambda x: pd.to_datetime(x).month)\n",
    "    df_final[\"year\"] = df_final[\"datetime\"].apply(lambda x: pd.to_datetime(x).year)\n",
    "    df_final.drop(columns='datetime', inplace=True)\n",
    "    return df_final"
   ]
  },
  {
   "cell_type": "code",
   "execution_count": 215,
   "metadata": {},
   "outputs": [],
   "source": [
    "df_demanda = extraer_df(ruta='datos\\demanda')\n",
    "df_generacion = extraer_df(ruta='datos\\generacion')"
   ]
  },
  {
   "cell_type": "markdown",
   "metadata": {},
   "source": [
    "Vemos que la columna de magnitude no nos da información relevante."
   ]
  },
  {
   "cell_type": "code",
   "execution_count": 216,
   "metadata": {},
   "outputs": [
    {
     "data": {
      "text/html": [
       "<div>\n",
       "<style scoped>\n",
       "    .dataframe tbody tr th:only-of-type {\n",
       "        vertical-align: middle;\n",
       "    }\n",
       "\n",
       "    .dataframe tbody tr th {\n",
       "        vertical-align: top;\n",
       "    }\n",
       "\n",
       "    .dataframe thead th {\n",
       "        text-align: right;\n",
       "    }\n",
       "</style>\n",
       "<table border=\"1\" class=\"dataframe\">\n",
       "  <thead>\n",
       "    <tr style=\"text-align: right;\">\n",
       "      <th></th>\n",
       "      <th>value</th>\n",
       "      <th>percentage</th>\n",
       "      <th>type</th>\n",
       "      <th>magnitude</th>\n",
       "      <th>code_com</th>\n",
       "      <th>mes</th>\n",
       "      <th>year</th>\n",
       "    </tr>\n",
       "  </thead>\n",
       "  <tbody>\n",
       "    <tr>\n",
       "      <th>1982</th>\n",
       "      <td>49823.483</td>\n",
       "      <td>0.056492</td>\n",
       "      <td>Otras renovables</td>\n",
       "      <td>NaN</td>\n",
       "      <td>17</td>\n",
       "      <td>6</td>\n",
       "      <td>2020</td>\n",
       "    </tr>\n",
       "    <tr>\n",
       "      <th>674</th>\n",
       "      <td>336015.181</td>\n",
       "      <td>1.000000</td>\n",
       "      <td>Generación renovable</td>\n",
       "      <td>NaN</td>\n",
       "      <td>15</td>\n",
       "      <td>4</td>\n",
       "      <td>2019</td>\n",
       "    </tr>\n",
       "    <tr>\n",
       "      <th>6</th>\n",
       "      <td>91236.630</td>\n",
       "      <td>0.079283</td>\n",
       "      <td>Hidráulica</td>\n",
       "      <td>NaN</td>\n",
       "      <td>4</td>\n",
       "      <td>7</td>\n",
       "      <td>2019</td>\n",
       "    </tr>\n",
       "    <tr>\n",
       "      <th>576</th>\n",
       "      <td>15493.086</td>\n",
       "      <td>0.035888</td>\n",
       "      <td>Solar fotovoltaica</td>\n",
       "      <td>NaN</td>\n",
       "      <td>14</td>\n",
       "      <td>1</td>\n",
       "      <td>2019</td>\n",
       "    </tr>\n",
       "    <tr>\n",
       "      <th>2675</th>\n",
       "      <td>412116.956</td>\n",
       "      <td>0.374514</td>\n",
       "      <td>Solar fotovoltaica</td>\n",
       "      <td>NaN</td>\n",
       "      <td>7</td>\n",
       "      <td>6</td>\n",
       "      <td>2021</td>\n",
       "    </tr>\n",
       "  </tbody>\n",
       "</table>\n",
       "</div>"
      ],
      "text/plain": [
       "           value  percentage                  type  magnitude  code_com  mes  \\\n",
       "1982   49823.483    0.056492      Otras renovables        NaN        17    6   \n",
       "674   336015.181    1.000000  Generación renovable        NaN        15    4   \n",
       "6      91236.630    0.079283            Hidráulica        NaN         4    7   \n",
       "576    15493.086    0.035888    Solar fotovoltaica        NaN        14    1   \n",
       "2675  412116.956    0.374514    Solar fotovoltaica        NaN         7    6   \n",
       "\n",
       "      year  \n",
       "1982  2020  \n",
       "674   2019  \n",
       "6     2019  \n",
       "576   2019  \n",
       "2675  2021  "
      ]
     },
     "execution_count": 216,
     "metadata": {},
     "output_type": "execute_result"
    }
   ],
   "source": [
    "df_generacion.sample(5)"
   ]
  },
  {
   "cell_type": "markdown",
   "metadata": {},
   "source": [
    "Está entera vacía"
   ]
  },
  {
   "cell_type": "code",
   "execution_count": 217,
   "metadata": {},
   "outputs": [
    {
     "name": "stdout",
     "output_type": "stream",
     "text": [
      "<class 'pandas.core.frame.DataFrame'>\n",
      "RangeIndex: 3557 entries, 0 to 3556\n",
      "Data columns (total 7 columns):\n",
      " #   Column      Non-Null Count  Dtype  \n",
      "---  ------      --------------  -----  \n",
      " 0   value       3557 non-null   float64\n",
      " 1   percentage  3557 non-null   float64\n",
      " 2   type        3557 non-null   object \n",
      " 3   magnitude   0 non-null      float64\n",
      " 4   code_com    3557 non-null   int64  \n",
      " 5   mes         3557 non-null   int64  \n",
      " 6   year        3557 non-null   int64  \n",
      "dtypes: float64(3), int64(3), object(1)\n",
      "memory usage: 194.7+ KB\n"
     ]
    }
   ],
   "source": [
    "df_generacion.info()"
   ]
  },
  {
   "cell_type": "code",
   "execution_count": 218,
   "metadata": {},
   "outputs": [],
   "source": [
    "df_generacion.drop(columns='magnitude', inplace=True)"
   ]
  },
  {
   "cell_type": "markdown",
   "metadata": {},
   "source": [
    "Podemos comprobar en la web de la [REE](https://www.ree.es/es/datos/generacion/estructura-generacion), que los datos energéticos están recogidos en MWh."
   ]
  },
  {
   "cell_type": "code",
   "execution_count": 219,
   "metadata": {},
   "outputs": [],
   "source": [
    "df_generacion.rename(columns={\"value\" : \"energia (MWh)\"}, inplace=True)"
   ]
  },
  {
   "cell_type": "code",
   "execution_count": 220,
   "metadata": {},
   "outputs": [
    {
     "data": {
      "text/html": [
       "<div>\n",
       "<style scoped>\n",
       "    .dataframe tbody tr th:only-of-type {\n",
       "        vertical-align: middle;\n",
       "    }\n",
       "\n",
       "    .dataframe tbody tr th {\n",
       "        vertical-align: top;\n",
       "    }\n",
       "\n",
       "    .dataframe thead th {\n",
       "        text-align: right;\n",
       "    }\n",
       "</style>\n",
       "<table border=\"1\" class=\"dataframe\">\n",
       "  <thead>\n",
       "    <tr style=\"text-align: right;\">\n",
       "      <th></th>\n",
       "      <th>energia (MWh)</th>\n",
       "      <th>percentage</th>\n",
       "      <th>type</th>\n",
       "      <th>code_com</th>\n",
       "      <th>mes</th>\n",
       "      <th>year</th>\n",
       "    </tr>\n",
       "  </thead>\n",
       "  <tbody>\n",
       "    <tr>\n",
       "      <th>1721</th>\n",
       "      <td>6723.2945</td>\n",
       "      <td>0.188274</td>\n",
       "      <td>Residuos renovables</td>\n",
       "      <td>13</td>\n",
       "      <td>9</td>\n",
       "      <td>2020</td>\n",
       "    </tr>\n",
       "    <tr>\n",
       "      <th>205</th>\n",
       "      <td>33896.0270</td>\n",
       "      <td>0.684110</td>\n",
       "      <td>Hidráulica</td>\n",
       "      <td>6</td>\n",
       "      <td>2</td>\n",
       "      <td>2019</td>\n",
       "    </tr>\n",
       "    <tr>\n",
       "      <th>506</th>\n",
       "      <td>9032.5050</td>\n",
       "      <td>0.239027</td>\n",
       "      <td>Solar fotovoltaica</td>\n",
       "      <td>13</td>\n",
       "      <td>3</td>\n",
       "      <td>2019</td>\n",
       "    </tr>\n",
       "    <tr>\n",
       "      <th>546</th>\n",
       "      <td>37512.1040</td>\n",
       "      <td>1.000000</td>\n",
       "      <td>Generación renovable</td>\n",
       "      <td>13</td>\n",
       "      <td>7</td>\n",
       "      <td>2019</td>\n",
       "    </tr>\n",
       "    <tr>\n",
       "      <th>1548</th>\n",
       "      <td>778150.1730</td>\n",
       "      <td>0.486165</td>\n",
       "      <td>Eólica</td>\n",
       "      <td>8</td>\n",
       "      <td>4</td>\n",
       "      <td>2020</td>\n",
       "    </tr>\n",
       "    <tr>\n",
       "      <th>2387</th>\n",
       "      <td>456862.1490</td>\n",
       "      <td>0.306287</td>\n",
       "      <td>Eólica</td>\n",
       "      <td>4</td>\n",
       "      <td>6</td>\n",
       "      <td>2021</td>\n",
       "    </tr>\n",
       "    <tr>\n",
       "      <th>2391</th>\n",
       "      <td>646288.3660</td>\n",
       "      <td>0.480210</td>\n",
       "      <td>Eólica</td>\n",
       "      <td>4</td>\n",
       "      <td>10</td>\n",
       "      <td>2021</td>\n",
       "    </tr>\n",
       "    <tr>\n",
       "      <th>2049</th>\n",
       "      <td>9261.9230</td>\n",
       "      <td>0.587365</td>\n",
       "      <td>Residuos renovables</td>\n",
       "      <td>8743</td>\n",
       "      <td>1</td>\n",
       "      <td>2020</td>\n",
       "    </tr>\n",
       "    <tr>\n",
       "      <th>79</th>\n",
       "      <td>156725.9480</td>\n",
       "      <td>0.343047</td>\n",
       "      <td>Hidráulica</td>\n",
       "      <td>5</td>\n",
       "      <td>8</td>\n",
       "      <td>2019</td>\n",
       "    </tr>\n",
       "    <tr>\n",
       "      <th>3153</th>\n",
       "      <td>2147.6350</td>\n",
       "      <td>0.001534</td>\n",
       "      <td>Solar fotovoltaica</td>\n",
       "      <td>17</td>\n",
       "      <td>4</td>\n",
       "      <td>2021</td>\n",
       "    </tr>\n",
       "  </tbody>\n",
       "</table>\n",
       "</div>"
      ],
      "text/plain": [
       "      energia (MWh)  percentage                  type  code_com  mes  year\n",
       "1721      6723.2945    0.188274   Residuos renovables        13    9  2020\n",
       "205      33896.0270    0.684110            Hidráulica         6    2  2019\n",
       "506       9032.5050    0.239027    Solar fotovoltaica        13    3  2019\n",
       "546      37512.1040    1.000000  Generación renovable        13    7  2019\n",
       "1548    778150.1730    0.486165                Eólica         8    4  2020\n",
       "2387    456862.1490    0.306287                Eólica         4    6  2021\n",
       "2391    646288.3660    0.480210                Eólica         4   10  2021\n",
       "2049      9261.9230    0.587365   Residuos renovables      8743    1  2020\n",
       "79      156725.9480    0.343047            Hidráulica         5    8  2019\n",
       "3153      2147.6350    0.001534    Solar fotovoltaica        17    4  2021"
      ]
     },
     "execution_count": 220,
     "metadata": {},
     "output_type": "execute_result"
    }
   ],
   "source": [
    "df_generacion.sample(10)"
   ]
  },
  {
   "cell_type": "markdown",
   "metadata": {},
   "source": [
    "Vamos a ver dónde encontramos los outliers:"
   ]
  },
  {
   "cell_type": "code",
   "execution_count": 221,
   "metadata": {},
   "outputs": [
    {
     "data": {
      "text/plain": [
       "code_com\n",
       "Castilla y León               96\n",
       "Galicia                       91\n",
       "Andalucía                     71\n",
       "Castilla - La Mancha          68\n",
       "Aragón                        64\n",
       "Cataluña                      39\n",
       "Extremadura                   27\n",
       "Principado de Asturias         6\n",
       "Comunitat Valenciana           4\n",
       "Comunidad Foral de Navarra     3\n",
       "Name: count, dtype: int64"
      ]
     },
     "execution_count": 221,
     "metadata": {},
     "output_type": "execute_result"
    }
   ],
   "source": [
    "df_generacion.iloc[get_outliers(df_generacion[\"energia (MWh)\"]).index]['code_com'].map(code_mapper).value_counts()"
   ]
  },
  {
   "cell_type": "markdown",
   "metadata": {},
   "source": [
    "Sobretodo en Castilla y León y Galicia. En cuanto a las fechas donde se concentran estos valores atípicos:"
   ]
  },
  {
   "cell_type": "code",
   "execution_count": 222,
   "metadata": {},
   "outputs": [
    {
     "data": {
      "text/plain": [
       "year\n",
       "2021    173\n",
       "2020    156\n",
       "2019    140\n",
       "Name: count, dtype: int64"
      ]
     },
     "execution_count": 222,
     "metadata": {},
     "output_type": "execute_result"
    }
   ],
   "source": [
    "df_generacion.iloc[get_outliers(df_generacion[\"energia (MWh)\"]).index]['year'].value_counts().head()"
   ]
  },
  {
   "cell_type": "markdown",
   "metadata": {},
   "source": [
    "Además observamos errores en el cálculo de porcentajes:"
   ]
  },
  {
   "cell_type": "code",
   "execution_count": 223,
   "metadata": {},
   "outputs": [
    {
     "data": {
      "text/html": [
       "<div>\n",
       "<style scoped>\n",
       "    .dataframe tbody tr th:only-of-type {\n",
       "        vertical-align: middle;\n",
       "    }\n",
       "\n",
       "    .dataframe tbody tr th {\n",
       "        vertical-align: top;\n",
       "    }\n",
       "\n",
       "    .dataframe thead th {\n",
       "        text-align: right;\n",
       "    }\n",
       "</style>\n",
       "<table border=\"1\" class=\"dataframe\">\n",
       "  <thead>\n",
       "    <tr style=\"text-align: right;\">\n",
       "      <th></th>\n",
       "      <th>energia (MWh)</th>\n",
       "      <th>percentage</th>\n",
       "      <th>type</th>\n",
       "      <th>code_com</th>\n",
       "      <th>mes</th>\n",
       "      <th>year</th>\n",
       "    </tr>\n",
       "  </thead>\n",
       "  <tbody>\n",
       "    <tr>\n",
       "      <th>3328</th>\n",
       "      <td>3.6600</td>\n",
       "      <td>1.0</td>\n",
       "      <td>Solar fotovoltaica</td>\n",
       "      <td>8745</td>\n",
       "      <td>12</td>\n",
       "      <td>2021</td>\n",
       "    </tr>\n",
       "    <tr>\n",
       "      <th>3340</th>\n",
       "      <td>536.5155</td>\n",
       "      <td>1.0</td>\n",
       "      <td>Residuos renovables</td>\n",
       "      <td>8745</td>\n",
       "      <td>12</td>\n",
       "      <td>2021</td>\n",
       "    </tr>\n",
       "    <tr>\n",
       "      <th>3351</th>\n",
       "      <td>540.1755</td>\n",
       "      <td>1.0</td>\n",
       "      <td>Generación renovable</td>\n",
       "      <td>8745</td>\n",
       "      <td>12</td>\n",
       "      <td>2021</td>\n",
       "    </tr>\n",
       "  </tbody>\n",
       "</table>\n",
       "</div>"
      ],
      "text/plain": [
       "      energia (MWh)  percentage                  type  code_com  mes  year\n",
       "3328         3.6600         1.0    Solar fotovoltaica      8745   12  2021\n",
       "3340       536.5155         1.0   Residuos renovables      8745   12  2021\n",
       "3351       540.1755         1.0  Generación renovable      8745   12  2021"
      ]
     },
     "execution_count": 223,
     "metadata": {},
     "output_type": "execute_result"
    }
   ],
   "source": [
    "df_generacion[(df_generacion[\"mes\"] == 12)&(df_generacion[\"year\"] == 2021)&(df_generacion[\"code_com\"] == 8745)]"
   ]
  },
  {
   "cell_type": "markdown",
   "metadata": {},
   "source": [
    "Definimos una función y aplicamos para calcular nuestros propios porcentajes."
   ]
  },
  {
   "cell_type": "code",
   "execution_count": 224,
   "metadata": {},
   "outputs": [],
   "source": [
    "def calcular_porcentaje(row):\n",
    "    total = df_generacion[(df_generacion[\"mes\"] == row[\"mes\"]) &\n",
    "                          (df_generacion[\"year\"] == row[\"year\"]) &\n",
    "                          (df_generacion[\"code_com\"] == row[\"code_com\"]) &\n",
    "                          (df_generacion[\"type\"] == 'Generación renovable')][\"energia (MWh)\"].values[0]\n",
    "    return round(row[\"energia (MWh)\"] / total, 5)\n",
    "\n",
    "df_generacion[\"porcentaje_generacion\"] = df_generacion.apply(calcular_porcentaje, axis=1)"
   ]
  },
  {
   "cell_type": "code",
   "execution_count": 225,
   "metadata": {},
   "outputs": [],
   "source": [
    "df_generacion.drop(columns='percentage', inplace=True)"
   ]
  },
  {
   "cell_type": "code",
   "execution_count": 226,
   "metadata": {},
   "outputs": [
    {
     "data": {
      "text/html": [
       "<div>\n",
       "<style scoped>\n",
       "    .dataframe tbody tr th:only-of-type {\n",
       "        vertical-align: middle;\n",
       "    }\n",
       "\n",
       "    .dataframe tbody tr th {\n",
       "        vertical-align: top;\n",
       "    }\n",
       "\n",
       "    .dataframe thead th {\n",
       "        text-align: right;\n",
       "    }\n",
       "</style>\n",
       "<table border=\"1\" class=\"dataframe\">\n",
       "  <thead>\n",
       "    <tr style=\"text-align: right;\">\n",
       "      <th></th>\n",
       "      <th>energia (MWh)</th>\n",
       "      <th>type</th>\n",
       "      <th>code_com</th>\n",
       "      <th>mes</th>\n",
       "      <th>year</th>\n",
       "      <th>porcentaje_generacion</th>\n",
       "    </tr>\n",
       "  </thead>\n",
       "  <tbody>\n",
       "    <tr>\n",
       "      <th>3328</th>\n",
       "      <td>3.6600</td>\n",
       "      <td>Solar fotovoltaica</td>\n",
       "      <td>8745</td>\n",
       "      <td>12</td>\n",
       "      <td>2021</td>\n",
       "      <td>0.00678</td>\n",
       "    </tr>\n",
       "    <tr>\n",
       "      <th>3340</th>\n",
       "      <td>536.5155</td>\n",
       "      <td>Residuos renovables</td>\n",
       "      <td>8745</td>\n",
       "      <td>12</td>\n",
       "      <td>2021</td>\n",
       "      <td>0.99322</td>\n",
       "    </tr>\n",
       "    <tr>\n",
       "      <th>3351</th>\n",
       "      <td>540.1755</td>\n",
       "      <td>Generación renovable</td>\n",
       "      <td>8745</td>\n",
       "      <td>12</td>\n",
       "      <td>2021</td>\n",
       "      <td>1.00000</td>\n",
       "    </tr>\n",
       "  </tbody>\n",
       "</table>\n",
       "</div>"
      ],
      "text/plain": [
       "      energia (MWh)                  type  code_com  mes  year  \\\n",
       "3328         3.6600    Solar fotovoltaica      8745   12  2021   \n",
       "3340       536.5155   Residuos renovables      8745   12  2021   \n",
       "3351       540.1755  Generación renovable      8745   12  2021   \n",
       "\n",
       "      porcentaje_generacion  \n",
       "3328                0.00678  \n",
       "3340                0.99322  \n",
       "3351                1.00000  "
      ]
     },
     "execution_count": 226,
     "metadata": {},
     "output_type": "execute_result"
    }
   ],
   "source": [
    "df_generacion[(df_generacion[\"mes\"] == 12)&(df_generacion[\"year\"] == 2021)&(df_generacion[\"code_com\"] == 8745)]"
   ]
  },
  {
   "cell_type": "markdown",
   "metadata": {},
   "source": [
    "Ahora, para evitar distorsiones a la hora del análisis, eliminaremos los valores que representan los totales, es decir los que son de tipo: 'Generación renovable'."
   ]
  },
  {
   "cell_type": "code",
   "execution_count": 247,
   "metadata": {},
   "outputs": [],
   "source": [
    "df_generacion.drop(index = df_generacion[df_generacion[\"type\"] == \"Generación renovable\"].index, inplace=True)"
   ]
  },
  {
   "cell_type": "code",
   "execution_count": 249,
   "metadata": {},
   "outputs": [
    {
     "data": {
      "text/html": [
       "<div>\n",
       "<style scoped>\n",
       "    .dataframe tbody tr th:only-of-type {\n",
       "        vertical-align: middle;\n",
       "    }\n",
       "\n",
       "    .dataframe tbody tr th {\n",
       "        vertical-align: top;\n",
       "    }\n",
       "\n",
       "    .dataframe thead th {\n",
       "        text-align: right;\n",
       "    }\n",
       "</style>\n",
       "<table border=\"1\" class=\"dataframe\">\n",
       "  <thead>\n",
       "    <tr style=\"text-align: right;\">\n",
       "      <th></th>\n",
       "      <th>energia (MWh)</th>\n",
       "      <th>type</th>\n",
       "      <th>code_com</th>\n",
       "      <th>mes</th>\n",
       "      <th>year</th>\n",
       "      <th>porcentaje_generacion</th>\n",
       "    </tr>\n",
       "  </thead>\n",
       "  <tbody>\n",
       "    <tr>\n",
       "      <th>0</th>\n",
       "      <td>25288.605</td>\n",
       "      <td>Hidráulica</td>\n",
       "      <td>4</td>\n",
       "      <td>1</td>\n",
       "      <td>2019</td>\n",
       "      <td>0.02952</td>\n",
       "    </tr>\n",
       "    <tr>\n",
       "      <th>1</th>\n",
       "      <td>33933.350</td>\n",
       "      <td>Hidráulica</td>\n",
       "      <td>4</td>\n",
       "      <td>2</td>\n",
       "      <td>2019</td>\n",
       "      <td>0.03078</td>\n",
       "    </tr>\n",
       "    <tr>\n",
       "      <th>2</th>\n",
       "      <td>35913.000</td>\n",
       "      <td>Hidráulica</td>\n",
       "      <td>4</td>\n",
       "      <td>3</td>\n",
       "      <td>2019</td>\n",
       "      <td>0.02964</td>\n",
       "    </tr>\n",
       "    <tr>\n",
       "      <th>3</th>\n",
       "      <td>44050.848</td>\n",
       "      <td>Hidráulica</td>\n",
       "      <td>4</td>\n",
       "      <td>4</td>\n",
       "      <td>2019</td>\n",
       "      <td>0.04134</td>\n",
       "    </tr>\n",
       "    <tr>\n",
       "      <th>4</th>\n",
       "      <td>88535.452</td>\n",
       "      <td>Hidráulica</td>\n",
       "      <td>4</td>\n",
       "      <td>5</td>\n",
       "      <td>2019</td>\n",
       "      <td>0.06850</td>\n",
       "    </tr>\n",
       "  </tbody>\n",
       "</table>\n",
       "</div>"
      ],
      "text/plain": [
       "   energia (MWh)        type  code_com  mes  year  porcentaje_generacion\n",
       "0      25288.605  Hidráulica         4    1  2019                0.02952\n",
       "1      33933.350  Hidráulica         4    2  2019                0.03078\n",
       "2      35913.000  Hidráulica         4    3  2019                0.02964\n",
       "3      44050.848  Hidráulica         4    4  2019                0.04134\n",
       "4      88535.452  Hidráulica         4    5  2019                0.06850"
      ]
     },
     "execution_count": 249,
     "metadata": {},
     "output_type": "execute_result"
    }
   ],
   "source": [
    "df_generacion.head()"
   ]
  },
  {
   "cell_type": "markdown",
   "metadata": {},
   "source": [
    "## INE: info demográfica y PIB"
   ]
  },
  {
   "cell_type": "code",
   "execution_count": 227,
   "metadata": {},
   "outputs": [],
   "source": [
    "df_demog = pd.read_csv('datos\\INE\\datos_demograficos.csv', encoding='latin-1', sep=';')\n",
    "provincias = df_demog[\"Provincias\"].unique()"
   ]
  },
  {
   "cell_type": "markdown",
   "metadata": {},
   "source": [
    "Primero voy a hacer un diccionario para mapear las diferentes provincias a los códigos."
   ]
  },
  {
   "cell_type": "code",
   "execution_count": 228,
   "metadata": {},
   "outputs": [],
   "source": [
    "import re\n",
    "\n",
    "cods = dict()\n",
    "for provincia in provincias:\n",
    "    splitted = provincia.split()\n",
    "    cods[\"\".join(re.findall(pattern= r\" (\\D+)\", string=provincia))] = splitted[0]\n",
    "\n",
    "cod_provincias = dict()\n",
    "for k,v in cods.items():\n",
    "    try:\n",
    "        cod_provincias[k] = int(v)\n",
    "    except:\n",
    "        cod_provincias[k] = v"
   ]
  },
  {
   "cell_type": "code",
   "execution_count": 229,
   "metadata": {},
   "outputs": [],
   "source": [
    "df_demog[\"Provincias\"] = df_demog[\"Provincias\"].apply(lambda x:\"\".join(re.findall(pattern= r\" (\\D+)\", string=x))).map(cod_provincias)"
   ]
  },
  {
   "cell_type": "code",
   "execution_count": 230,
   "metadata": {},
   "outputs": [],
   "source": [
    "df_demog[\"Total\"] = df_demog[\"Total\"].apply(decimalpoint)"
   ]
  },
  {
   "cell_type": "code",
   "execution_count": 231,
   "metadata": {},
   "outputs": [
    {
     "name": "stdout",
     "output_type": "stream",
     "text": [
      "<class 'pandas.core.frame.DataFrame'>\n",
      "RangeIndex: 7632 entries, 0 to 7631\n",
      "Data columns (total 6 columns):\n",
      " #   Column                   Non-Null Count  Dtype  \n",
      "---  ------                   --------------  -----  \n",
      " 0   Provincias               7632 non-null   object \n",
      " 1   Edad (3 grupos de edad)  7632 non-null   object \n",
      " 2   Españoles/Extranjeros    7632 non-null   object \n",
      " 3   Sexo                     7632 non-null   object \n",
      " 4   Año                      7632 non-null   int64  \n",
      " 5   Total                    7632 non-null   float64\n",
      "dtypes: float64(1), int64(1), object(4)\n",
      "memory usage: 357.9+ KB\n"
     ]
    }
   ],
   "source": [
    "df_demog.info()"
   ]
  },
  {
   "cell_type": "markdown",
   "metadata": {},
   "source": [
    "Tenemos un montón de datos de los totales que podrían distorsionar el análisis. Vamos a eliminarlos, ya los calcularemos más tarde igualmente."
   ]
  },
  {
   "cell_type": "code",
   "execution_count": 232,
   "metadata": {},
   "outputs": [
    {
     "data": {
      "text/html": [
       "<div>\n",
       "<style scoped>\n",
       "    .dataframe tbody tr th:only-of-type {\n",
       "        vertical-align: middle;\n",
       "    }\n",
       "\n",
       "    .dataframe tbody tr th {\n",
       "        vertical-align: top;\n",
       "    }\n",
       "\n",
       "    .dataframe thead th {\n",
       "        text-align: right;\n",
       "    }\n",
       "</style>\n",
       "<table border=\"1\" class=\"dataframe\">\n",
       "  <thead>\n",
       "    <tr style=\"text-align: right;\">\n",
       "      <th></th>\n",
       "      <th>Provincias</th>\n",
       "      <th>Edad (3 grupos de edad)</th>\n",
       "      <th>Españoles/Extranjeros</th>\n",
       "      <th>Sexo</th>\n",
       "      <th>Año</th>\n",
       "      <th>Total</th>\n",
       "    </tr>\n",
       "  </thead>\n",
       "  <tbody>\n",
       "    <tr>\n",
       "      <th>0</th>\n",
       "      <td>TOTAL</td>\n",
       "      <td>TOTAL EDADES</td>\n",
       "      <td>TOTAL</td>\n",
       "      <td>Ambos sexos</td>\n",
       "      <td>2021</td>\n",
       "      <td>47385107.0</td>\n",
       "    </tr>\n",
       "    <tr>\n",
       "      <th>1</th>\n",
       "      <td>TOTAL</td>\n",
       "      <td>TOTAL EDADES</td>\n",
       "      <td>TOTAL</td>\n",
       "      <td>Ambos sexos</td>\n",
       "      <td>2020</td>\n",
       "      <td>47450795.0</td>\n",
       "    </tr>\n",
       "    <tr>\n",
       "      <th>2</th>\n",
       "      <td>TOTAL</td>\n",
       "      <td>TOTAL EDADES</td>\n",
       "      <td>TOTAL</td>\n",
       "      <td>Ambos sexos</td>\n",
       "      <td>2019</td>\n",
       "      <td>47026208.0</td>\n",
       "    </tr>\n",
       "    <tr>\n",
       "      <th>3</th>\n",
       "      <td>TOTAL</td>\n",
       "      <td>TOTAL EDADES</td>\n",
       "      <td>TOTAL</td>\n",
       "      <td>Hombres</td>\n",
       "      <td>2021</td>\n",
       "      <td>23222953.0</td>\n",
       "    </tr>\n",
       "    <tr>\n",
       "      <th>4</th>\n",
       "      <td>TOTAL</td>\n",
       "      <td>TOTAL EDADES</td>\n",
       "      <td>TOTAL</td>\n",
       "      <td>Hombres</td>\n",
       "      <td>2020</td>\n",
       "      <td>23255590.0</td>\n",
       "    </tr>\n",
       "  </tbody>\n",
       "</table>\n",
       "</div>"
      ],
      "text/plain": [
       "  Provincias Edad (3 grupos de edad) Españoles/Extranjeros         Sexo   Año  \\\n",
       "0      TOTAL            TOTAL EDADES                 TOTAL  Ambos sexos  2021   \n",
       "1      TOTAL            TOTAL EDADES                 TOTAL  Ambos sexos  2020   \n",
       "2      TOTAL            TOTAL EDADES                 TOTAL  Ambos sexos  2019   \n",
       "3      TOTAL            TOTAL EDADES                 TOTAL      Hombres  2021   \n",
       "4      TOTAL            TOTAL EDADES                 TOTAL      Hombres  2020   \n",
       "\n",
       "        Total  \n",
       "0  47385107.0  \n",
       "1  47450795.0  \n",
       "2  47026208.0  \n",
       "3  23222953.0  \n",
       "4  23255590.0  "
      ]
     },
     "execution_count": 232,
     "metadata": {},
     "output_type": "execute_result"
    }
   ],
   "source": [
    "df_demog.head()"
   ]
  },
  {
   "cell_type": "code",
   "execution_count": 233,
   "metadata": {},
   "outputs": [],
   "source": [
    "a_drop = []\n",
    "for row, index in zip(df_demog.values, df_demog.index):\n",
    "    if any('total' in str(ele).lower() for ele in row) or any('ambos' in str(ele).lower() for ele in row):\n",
    "        a_drop.append(index)"
   ]
  },
  {
   "cell_type": "code",
   "execution_count": 234,
   "metadata": {},
   "outputs": [],
   "source": [
    "df_demog.drop(index = a_drop, inplace=True)\n",
    "df_demog.reset_index(drop=True, inplace=True)"
   ]
  },
  {
   "cell_type": "code",
   "execution_count": 235,
   "metadata": {},
   "outputs": [
    {
     "data": {
      "text/html": [
       "<div>\n",
       "<style scoped>\n",
       "    .dataframe tbody tr th:only-of-type {\n",
       "        vertical-align: middle;\n",
       "    }\n",
       "\n",
       "    .dataframe tbody tr th {\n",
       "        vertical-align: top;\n",
       "    }\n",
       "\n",
       "    .dataframe thead th {\n",
       "        text-align: right;\n",
       "    }\n",
       "</style>\n",
       "<table border=\"1\" class=\"dataframe\">\n",
       "  <thead>\n",
       "    <tr style=\"text-align: right;\">\n",
       "      <th></th>\n",
       "      <th>Provincias</th>\n",
       "      <th>Edad (3 grupos de edad)</th>\n",
       "      <th>Españoles/Extranjeros</th>\n",
       "      <th>Sexo</th>\n",
       "      <th>Año</th>\n",
       "      <th>Total</th>\n",
       "    </tr>\n",
       "  </thead>\n",
       "  <tbody>\n",
       "    <tr>\n",
       "      <th>0</th>\n",
       "      <td>2</td>\n",
       "      <td>0-15 años</td>\n",
       "      <td>Españoles</td>\n",
       "      <td>Hombres</td>\n",
       "      <td>2021</td>\n",
       "      <td>27304.0</td>\n",
       "    </tr>\n",
       "    <tr>\n",
       "      <th>1</th>\n",
       "      <td>2</td>\n",
       "      <td>0-15 años</td>\n",
       "      <td>Españoles</td>\n",
       "      <td>Hombres</td>\n",
       "      <td>2020</td>\n",
       "      <td>27979.0</td>\n",
       "    </tr>\n",
       "    <tr>\n",
       "      <th>2</th>\n",
       "      <td>2</td>\n",
       "      <td>0-15 años</td>\n",
       "      <td>Españoles</td>\n",
       "      <td>Hombres</td>\n",
       "      <td>2019</td>\n",
       "      <td>28513.0</td>\n",
       "    </tr>\n",
       "    <tr>\n",
       "      <th>3</th>\n",
       "      <td>2</td>\n",
       "      <td>0-15 años</td>\n",
       "      <td>Españoles</td>\n",
       "      <td>Mujeres</td>\n",
       "      <td>2021</td>\n",
       "      <td>25547.0</td>\n",
       "    </tr>\n",
       "    <tr>\n",
       "      <th>4</th>\n",
       "      <td>2</td>\n",
       "      <td>0-15 años</td>\n",
       "      <td>Españoles</td>\n",
       "      <td>Mujeres</td>\n",
       "      <td>2020</td>\n",
       "      <td>25953.0</td>\n",
       "    </tr>\n",
       "  </tbody>\n",
       "</table>\n",
       "</div>"
      ],
      "text/plain": [
       "  Provincias Edad (3 grupos de edad) Españoles/Extranjeros     Sexo   Año  \\\n",
       "0          2               0-15 años             Españoles  Hombres  2021   \n",
       "1          2               0-15 años             Españoles  Hombres  2020   \n",
       "2          2               0-15 años             Españoles  Hombres  2019   \n",
       "3          2               0-15 años             Españoles  Mujeres  2021   \n",
       "4          2               0-15 años             Españoles  Mujeres  2020   \n",
       "\n",
       "     Total  \n",
       "0  27304.0  \n",
       "1  27979.0  \n",
       "2  28513.0  \n",
       "3  25547.0  \n",
       "4  25953.0  "
      ]
     },
     "execution_count": 235,
     "metadata": {},
     "output_type": "execute_result"
    }
   ],
   "source": [
    "df_demog.head()"
   ]
  },
  {
   "cell_type": "markdown",
   "metadata": {},
   "source": [
    "Por último eliminamos los valores de % Extranjeros, ya que es una métrica y nos distorsiona los datos. Esta métrica la podremos obtener más adelante."
   ]
  },
  {
   "cell_type": "code",
   "execution_count": 256,
   "metadata": {},
   "outputs": [],
   "source": [
    "df_demog.drop(index = df_demog[df_demog[\"Españoles/Extranjeros\"] == '% Extranjeros'].index).reset_index(inplace=True)"
   ]
  },
  {
   "cell_type": "code",
   "execution_count": 258,
   "metadata": {},
   "outputs": [
    {
     "data": {
      "text/html": [
       "<div>\n",
       "<style scoped>\n",
       "    .dataframe tbody tr th:only-of-type {\n",
       "        vertical-align: middle;\n",
       "    }\n",
       "\n",
       "    .dataframe tbody tr th {\n",
       "        vertical-align: top;\n",
       "    }\n",
       "\n",
       "    .dataframe thead th {\n",
       "        text-align: right;\n",
       "    }\n",
       "</style>\n",
       "<table border=\"1\" class=\"dataframe\">\n",
       "  <thead>\n",
       "    <tr style=\"text-align: right;\">\n",
       "      <th></th>\n",
       "      <th>Provincias</th>\n",
       "      <th>Edad (3 grupos de edad)</th>\n",
       "      <th>Españoles/Extranjeros</th>\n",
       "      <th>Sexo</th>\n",
       "      <th>Año</th>\n",
       "      <th>Total</th>\n",
       "    </tr>\n",
       "  </thead>\n",
       "  <tbody>\n",
       "    <tr>\n",
       "      <th>0</th>\n",
       "      <td>2</td>\n",
       "      <td>0-15 años</td>\n",
       "      <td>Españoles</td>\n",
       "      <td>Hombres</td>\n",
       "      <td>2021</td>\n",
       "      <td>27304.0</td>\n",
       "    </tr>\n",
       "    <tr>\n",
       "      <th>1</th>\n",
       "      <td>2</td>\n",
       "      <td>0-15 años</td>\n",
       "      <td>Españoles</td>\n",
       "      <td>Hombres</td>\n",
       "      <td>2020</td>\n",
       "      <td>27979.0</td>\n",
       "    </tr>\n",
       "    <tr>\n",
       "      <th>2</th>\n",
       "      <td>2</td>\n",
       "      <td>0-15 años</td>\n",
       "      <td>Españoles</td>\n",
       "      <td>Hombres</td>\n",
       "      <td>2019</td>\n",
       "      <td>28513.0</td>\n",
       "    </tr>\n",
       "    <tr>\n",
       "      <th>3</th>\n",
       "      <td>2</td>\n",
       "      <td>0-15 años</td>\n",
       "      <td>Españoles</td>\n",
       "      <td>Mujeres</td>\n",
       "      <td>2021</td>\n",
       "      <td>25547.0</td>\n",
       "    </tr>\n",
       "    <tr>\n",
       "      <th>4</th>\n",
       "      <td>2</td>\n",
       "      <td>0-15 años</td>\n",
       "      <td>Españoles</td>\n",
       "      <td>Mujeres</td>\n",
       "      <td>2020</td>\n",
       "      <td>25953.0</td>\n",
       "    </tr>\n",
       "  </tbody>\n",
       "</table>\n",
       "</div>"
      ],
      "text/plain": [
       "  Provincias Edad (3 grupos de edad) Españoles/Extranjeros     Sexo   Año  \\\n",
       "0          2               0-15 años             Españoles  Hombres  2021   \n",
       "1          2               0-15 años             Españoles  Hombres  2020   \n",
       "2          2               0-15 años             Españoles  Hombres  2019   \n",
       "3          2               0-15 años             Españoles  Mujeres  2021   \n",
       "4          2               0-15 años             Españoles  Mujeres  2020   \n",
       "\n",
       "     Total  \n",
       "0  27304.0  \n",
       "1  27979.0  \n",
       "2  28513.0  \n",
       "3  25547.0  \n",
       "4  25953.0  "
      ]
     },
     "execution_count": 258,
     "metadata": {},
     "output_type": "execute_result"
    }
   ],
   "source": [
    "df_demog.head()"
   ]
  },
  {
   "cell_type": "markdown",
   "metadata": {},
   "source": [
    "Ahora con los de PIB"
   ]
  },
  {
   "cell_type": "code",
   "execution_count": 236,
   "metadata": {},
   "outputs": [],
   "source": [
    "df_pib = pd.read_csv('datos\\INE\\datos_pib.csv', encoding='latin-1', sep = ';')"
   ]
  },
  {
   "cell_type": "markdown",
   "metadata": {},
   "source": [
    "Vamos a sustituir las provincias por el nombre y luego mapearemos con el diccionario creado previamente."
   ]
  },
  {
   "cell_type": "code",
   "execution_count": 237,
   "metadata": {},
   "outputs": [],
   "source": [
    "df_pib[\"Provincias\"] = df_pib[\"Provincias\"].apply(lambda x:\"\".join(re.findall(pattern= r\" (\\D+)\", string=x))).map(cod_provincias)"
   ]
  },
  {
   "cell_type": "code",
   "execution_count": 238,
   "metadata": {},
   "outputs": [],
   "source": [
    "#! Pensándolo ahora se podría simplemente extraer el código de la provincia y listo"
   ]
  },
  {
   "cell_type": "markdown",
   "metadata": {},
   "source": [
    "Vamos a observar que en los años hay años con `(P)`. Vamos a limpiarlos y pasarlos a int."
   ]
  },
  {
   "cell_type": "code",
   "execution_count": 239,
   "metadata": {},
   "outputs": [
    {
     "data": {
      "text/plain": [
       "array(['2021(P)', '2020', '2019'], dtype=object)"
      ]
     },
     "execution_count": 239,
     "metadata": {},
     "output_type": "execute_result"
    }
   ],
   "source": [
    "df_pib[\"periodo\"].unique()"
   ]
  },
  {
   "cell_type": "code",
   "execution_count": 240,
   "metadata": {},
   "outputs": [],
   "source": [
    "df_pib[\"periodo\"] = df_pib[\"periodo\"].str.replace('(P)', \"\").apply(int)"
   ]
  },
  {
   "cell_type": "code",
   "execution_count": null,
   "metadata": {},
   "outputs": [],
   "source": [
    "df_pib[\"periodo\"].unique()"
   ]
  },
  {
   "cell_type": "markdown",
   "metadata": {},
   "source": [
    "Limpiamos los valores del total."
   ]
  },
  {
   "cell_type": "code",
   "execution_count": 241,
   "metadata": {},
   "outputs": [],
   "source": [
    "df_pib[\"Total\"] = df_pib[\"Total\"].apply(decimalpoint)"
   ]
  },
  {
   "cell_type": "markdown",
   "metadata": {},
   "source": [
    "Vamos a eliminar también las filas que representan totales."
   ]
  },
  {
   "cell_type": "code",
   "execution_count": 242,
   "metadata": {},
   "outputs": [],
   "source": [
    "df_pib.drop(index= df_pib[df_pib[\"Ramas de actividad\"] == 'PRODUCTO INTERIOR BRUTO A PRECIOS DE MERCADO'].index, inplace=True)"
   ]
  },
  {
   "cell_type": "code",
   "execution_count": 243,
   "metadata": {},
   "outputs": [],
   "source": [
    "df_pib.reset_index(drop=True, inplace=True)"
   ]
  },
  {
   "cell_type": "code",
   "execution_count": 244,
   "metadata": {},
   "outputs": [
    {
     "data": {
      "text/html": [
       "<div>\n",
       "<style scoped>\n",
       "    .dataframe tbody tr th:only-of-type {\n",
       "        vertical-align: middle;\n",
       "    }\n",
       "\n",
       "    .dataframe tbody tr th {\n",
       "        vertical-align: top;\n",
       "    }\n",
       "\n",
       "    .dataframe thead th {\n",
       "        text-align: right;\n",
       "    }\n",
       "</style>\n",
       "<table border=\"1\" class=\"dataframe\">\n",
       "  <thead>\n",
       "    <tr style=\"text-align: right;\">\n",
       "      <th></th>\n",
       "      <th>Provincias</th>\n",
       "      <th>Ramas de actividad</th>\n",
       "      <th>periodo</th>\n",
       "      <th>Total</th>\n",
       "    </tr>\n",
       "  </thead>\n",
       "  <tbody>\n",
       "    <tr>\n",
       "      <th>0</th>\n",
       "      <td>2</td>\n",
       "      <td>A. Agricultura, ganadería, silvicultura y pesca</td>\n",
       "      <td>2021</td>\n",
       "      <td>884324.0</td>\n",
       "    </tr>\n",
       "    <tr>\n",
       "      <th>1</th>\n",
       "      <td>2</td>\n",
       "      <td>A. Agricultura, ganadería, silvicultura y pesca</td>\n",
       "      <td>2020</td>\n",
       "      <td>768976.0</td>\n",
       "    </tr>\n",
       "    <tr>\n",
       "      <th>2</th>\n",
       "      <td>2</td>\n",
       "      <td>A. Agricultura, ganadería, silvicultura y pesca</td>\n",
       "      <td>2019</td>\n",
       "      <td>791464.0</td>\n",
       "    </tr>\n",
       "    <tr>\n",
       "      <th>3</th>\n",
       "      <td>2</td>\n",
       "      <td>B_E. Industrias extractivas, industria manufac...</td>\n",
       "      <td>2021</td>\n",
       "      <td>1397006.0</td>\n",
       "    </tr>\n",
       "    <tr>\n",
       "      <th>4</th>\n",
       "      <td>2</td>\n",
       "      <td>B_E. Industrias extractivas, industria manufac...</td>\n",
       "      <td>2020</td>\n",
       "      <td>1194438.0</td>\n",
       "    </tr>\n",
       "  </tbody>\n",
       "</table>\n",
       "</div>"
      ],
      "text/plain": [
       "  Provincias                                 Ramas de actividad  periodo  \\\n",
       "0          2    A. Agricultura, ganadería, silvicultura y pesca     2021   \n",
       "1          2    A. Agricultura, ganadería, silvicultura y pesca     2020   \n",
       "2          2    A. Agricultura, ganadería, silvicultura y pesca     2019   \n",
       "3          2  B_E. Industrias extractivas, industria manufac...     2021   \n",
       "4          2  B_E. Industrias extractivas, industria manufac...     2020   \n",
       "\n",
       "       Total  \n",
       "0   884324.0  \n",
       "1   768976.0  \n",
       "2   791464.0  \n",
       "3  1397006.0  \n",
       "4  1194438.0  "
      ]
     },
     "execution_count": 244,
     "metadata": {},
     "output_type": "execute_result"
    }
   ],
   "source": [
    "df_pib.head()"
   ]
  }
 ],
 "metadata": {
  "kernelspec": {
   "display_name": "Python 3",
   "language": "python",
   "name": "python3"
  },
  "language_info": {
   "codemirror_mode": {
    "name": "ipython",
    "version": 3
   },
   "file_extension": ".py",
   "mimetype": "text/x-python",
   "name": "python",
   "nbconvert_exporter": "python",
   "pygments_lexer": "ipython3",
   "version": "3.11.9"
  }
 },
 "nbformat": 4,
 "nbformat_minor": 2
}
